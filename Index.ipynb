{
 "cells": [
  {
   "cell_type": "markdown",
   "metadata": {
    "id": "KdBGN4ACD9tw"
   },
   "source": [
    "**MICROSOFT FILM INVESTMENT ANALYSIS**\n",
    "\n",
    "**Author: Nduta Karanja**\n",
    "\n",
    "\n",
    "\n",
    "\n",
    "\n",
    "\n",
    "\n",
    "\n",
    "\n",
    "\n",
    "\n",
    "\n"
   ]
  },
  {
   "cell_type": "markdown",
   "metadata": {
    "id": "Ov26DTB7eqUS"
   },
   "source": [
    "# INTRODUCTION"
   ]
  },
  {
   "cell_type": "markdown",
   "metadata": {
    "id": "av8gfJv1eQxl"
   },
   "source": [
    "**Business Problem and understanding**\n",
    "\n",
    "\n",
    "Microsoft sees all the big companies creating original video content and they want  to create a new movie studio and achieve by exploring what types of films are currently doing the best at the box office.\n",
    "\n",
    "To assist on this,i will consider;\n",
    "* Top ten most produced genres over the recording period\n",
    "* Success rate in terms of return on investments on the genres,domestic and foreign region performance for marketing  and resource allocation purposes and audience rating to gauge market behaviour.\n",
    "* Studios involved in the most successful genres for the purpose of market interaction and undestanding. possible bench marking in regards to successful production and marketing structures,production budget maximisation,star power,seasonal trends and proper competition understanding.\n"
   ]
  },
  {
   "cell_type": "markdown",
   "metadata": {
    "id": "In5Q3c7We-J6"
   },
   "source": [
    "# DATA"
   ]
  },
  {
   "cell_type": "markdown",
   "metadata": {
    "id": "xCEImlw-SZW7"
   },
   "source": [
    "\n",
    "\n",
    "At my disposal,i have been provided for data sorces to analyse movie data.The likes of https://www.imdb.com/,https://www.rottentomatoes.com/ ,https://www.themoviedb.org/, https://www.the-numbers.com/ and https://www.boxofficemojo.com/ to create actionable insight that Microsoft can use to start a film studio.\n",
    "\n",
    "The data for this analysis have come from Databases:\n",
    "*  IMDb (movie title, release year, genres, and audience rating)\n",
    "*  The Movie Database (movie title,popularity, audience rating)\n",
    "*  Box Office Mojo (movie title, gross earnings,Studios)\n",
    "*  The Number (release dates,gross earnings,production budget)\n"
   ]
  },
  {
   "cell_type": "code",
   "execution_count": 35,
   "metadata": {
    "id": "-_uvKdInFThA"
   },
   "outputs": [],
   "source": [
    "#Import relevant libraries\n",
    "import pandas as pd\n",
    "import numpy as np\n",
    "import matplotlib.pyplot as plt\n",
    "import seaborn as sns\n",
    "%matplotlib inline"
   ]
  },
  {
   "cell_type": "markdown",
   "metadata": {
    "id": "4FRO0h2YTqGc"
   },
   "source": [
    "#DATA PREPARATION"
   ]
  },
  {
   "cell_type": "markdown",
   "metadata": {
    "id": "UNytxLKJte7H"
   },
   "source": [
    "**Product Data Preparation**"
   ]
  },
  {
   "cell_type": "code",
   "execution_count": 4,
   "metadata": {
    "colab": {
     "base_uri": "https://localhost:8080/",
     "height": 493
    },
    "id": "MCoDLxo6EP2k",
    "outputId": "e0bd260d-e8a8-4f9c-8823-791d9beab01b"
   },
   "outputs": [
    {
     "data": {
      "text/html": [
       "<div>\n",
       "<style scoped>\n",
       "    .dataframe tbody tr th:only-of-type {\n",
       "        vertical-align: middle;\n",
       "    }\n",
       "\n",
       "    .dataframe tbody tr th {\n",
       "        vertical-align: top;\n",
       "    }\n",
       "\n",
       "    .dataframe thead th {\n",
       "        text-align: right;\n",
       "    }\n",
       "</style>\n",
       "<table border=\"1\" class=\"dataframe\">\n",
       "  <thead>\n",
       "    <tr style=\"text-align: right;\">\n",
       "      <th></th>\n",
       "      <th>tconst</th>\n",
       "      <th>title</th>\n",
       "      <th>original_title</th>\n",
       "      <th>start_year</th>\n",
       "      <th>runtime_minutes</th>\n",
       "      <th>genres</th>\n",
       "      <th>averagerating</th>\n",
       "      <th>numvotes</th>\n",
       "    </tr>\n",
       "  </thead>\n",
       "  <tbody>\n",
       "    <tr>\n",
       "      <th>0</th>\n",
       "      <td>tt0063540</td>\n",
       "      <td>Sunghursh</td>\n",
       "      <td>Sunghursh</td>\n",
       "      <td>2013</td>\n",
       "      <td>175.0</td>\n",
       "      <td>Action,Crime,Drama</td>\n",
       "      <td>7.0</td>\n",
       "      <td>77</td>\n",
       "    </tr>\n",
       "    <tr>\n",
       "      <th>1</th>\n",
       "      <td>tt0066787</td>\n",
       "      <td>One Day Before the Rainy Season</td>\n",
       "      <td>Ashad Ka Ek Din</td>\n",
       "      <td>2019</td>\n",
       "      <td>114.0</td>\n",
       "      <td>Biography,Drama</td>\n",
       "      <td>7.2</td>\n",
       "      <td>43</td>\n",
       "    </tr>\n",
       "    <tr>\n",
       "      <th>2</th>\n",
       "      <td>tt0069049</td>\n",
       "      <td>The Other Side of the Wind</td>\n",
       "      <td>The Other Side of the Wind</td>\n",
       "      <td>2018</td>\n",
       "      <td>122.0</td>\n",
       "      <td>Drama</td>\n",
       "      <td>6.9</td>\n",
       "      <td>4517</td>\n",
       "    </tr>\n",
       "    <tr>\n",
       "      <th>3</th>\n",
       "      <td>tt0069204</td>\n",
       "      <td>Sabse Bada Sukh</td>\n",
       "      <td>Sabse Bada Sukh</td>\n",
       "      <td>2018</td>\n",
       "      <td>NaN</td>\n",
       "      <td>Comedy,Drama</td>\n",
       "      <td>6.1</td>\n",
       "      <td>13</td>\n",
       "    </tr>\n",
       "    <tr>\n",
       "      <th>4</th>\n",
       "      <td>tt0100275</td>\n",
       "      <td>The Wandering Soap Opera</td>\n",
       "      <td>La Telenovela Errante</td>\n",
       "      <td>2017</td>\n",
       "      <td>80.0</td>\n",
       "      <td>Comedy,Drama,Fantasy</td>\n",
       "      <td>6.5</td>\n",
       "      <td>119</td>\n",
       "    </tr>\n",
       "    <tr>\n",
       "      <th>...</th>\n",
       "      <td>...</td>\n",
       "      <td>...</td>\n",
       "      <td>...</td>\n",
       "      <td>...</td>\n",
       "      <td>...</td>\n",
       "      <td>...</td>\n",
       "      <td>...</td>\n",
       "      <td>...</td>\n",
       "    </tr>\n",
       "    <tr>\n",
       "      <th>146115</th>\n",
       "      <td>tt9913084</td>\n",
       "      <td>Diabolik sono io</td>\n",
       "      <td>Diabolik sono io</td>\n",
       "      <td>2019</td>\n",
       "      <td>75.0</td>\n",
       "      <td>Documentary</td>\n",
       "      <td>6.2</td>\n",
       "      <td>6</td>\n",
       "    </tr>\n",
       "    <tr>\n",
       "      <th>146122</th>\n",
       "      <td>tt9914286</td>\n",
       "      <td>Sokagin Çocuklari</td>\n",
       "      <td>Sokagin Çocuklari</td>\n",
       "      <td>2019</td>\n",
       "      <td>98.0</td>\n",
       "      <td>Drama,Family</td>\n",
       "      <td>8.7</td>\n",
       "      <td>136</td>\n",
       "    </tr>\n",
       "    <tr>\n",
       "      <th>146125</th>\n",
       "      <td>tt9914642</td>\n",
       "      <td>Albatross</td>\n",
       "      <td>Albatross</td>\n",
       "      <td>2017</td>\n",
       "      <td>NaN</td>\n",
       "      <td>Documentary</td>\n",
       "      <td>8.5</td>\n",
       "      <td>8</td>\n",
       "    </tr>\n",
       "    <tr>\n",
       "      <th>146129</th>\n",
       "      <td>tt9914942</td>\n",
       "      <td>La vida sense la Sara Amat</td>\n",
       "      <td>La vida sense la Sara Amat</td>\n",
       "      <td>2019</td>\n",
       "      <td>NaN</td>\n",
       "      <td>NaN</td>\n",
       "      <td>6.6</td>\n",
       "      <td>5</td>\n",
       "    </tr>\n",
       "    <tr>\n",
       "      <th>146134</th>\n",
       "      <td>tt9916160</td>\n",
       "      <td>Drømmeland</td>\n",
       "      <td>Drømmeland</td>\n",
       "      <td>2019</td>\n",
       "      <td>72.0</td>\n",
       "      <td>Documentary</td>\n",
       "      <td>6.5</td>\n",
       "      <td>11</td>\n",
       "    </tr>\n",
       "  </tbody>\n",
       "</table>\n",
       "<p>73856 rows × 8 columns</p>\n",
       "</div>"
      ],
      "text/plain": [
       "           tconst                            title  \\\n",
       "0       tt0063540                        Sunghursh   \n",
       "1       tt0066787  One Day Before the Rainy Season   \n",
       "2       tt0069049       The Other Side of the Wind   \n",
       "3       tt0069204                  Sabse Bada Sukh   \n",
       "4       tt0100275         The Wandering Soap Opera   \n",
       "...           ...                              ...   \n",
       "146115  tt9913084                 Diabolik sono io   \n",
       "146122  tt9914286                Sokagin Çocuklari   \n",
       "146125  tt9914642                        Albatross   \n",
       "146129  tt9914942       La vida sense la Sara Amat   \n",
       "146134  tt9916160                       Drømmeland   \n",
       "\n",
       "                    original_title  start_year  runtime_minutes  \\\n",
       "0                        Sunghursh        2013            175.0   \n",
       "1                  Ashad Ka Ek Din        2019            114.0   \n",
       "2       The Other Side of the Wind        2018            122.0   \n",
       "3                  Sabse Bada Sukh        2018              NaN   \n",
       "4            La Telenovela Errante        2017             80.0   \n",
       "...                            ...         ...              ...   \n",
       "146115            Diabolik sono io        2019             75.0   \n",
       "146122           Sokagin Çocuklari        2019             98.0   \n",
       "146125                   Albatross        2017              NaN   \n",
       "146129  La vida sense la Sara Amat        2019              NaN   \n",
       "146134                  Drømmeland        2019             72.0   \n",
       "\n",
       "                      genres  averagerating  numvotes  \n",
       "0         Action,Crime,Drama            7.0        77  \n",
       "1            Biography,Drama            7.2        43  \n",
       "2                      Drama            6.9      4517  \n",
       "3               Comedy,Drama            6.1        13  \n",
       "4       Comedy,Drama,Fantasy            6.5       119  \n",
       "...                      ...            ...       ...  \n",
       "146115           Documentary            6.2         6  \n",
       "146122          Drama,Family            8.7       136  \n",
       "146125           Documentary            8.5         8  \n",
       "146129                   NaN            6.6         5  \n",
       "146134           Documentary            6.5        11  \n",
       "\n",
       "[73856 rows x 8 columns]"
      ]
     },
     "execution_count": 4,
     "metadata": {},
     "output_type": "execute_result"
    }
   ],
   "source": [
    "\n",
    "#importing data from IMDb\n",
    "imdb_basics = pd.read_csv('title.basics.csv')\n",
    "imdb_ratings = pd.read_csv('title.ratings.csv')\n",
    "\n",
    "#merging IMDb files into a single database\n",
    "imdb_data = imdb_basics.join(imdb_ratings.set_index('tconst'),\n",
    "                                   how = 'inner', on = 'tconst', rsuffix = 'r')\n",
    "\n",
    "\n",
    "#change column name 'primary title' to 'title' to match our additional files\n",
    "imdb_data.rename(columns = {'primary_title':'title'}, inplace = True)\n",
    "\n",
    "imdb_data\n"
   ]
  },
  {
   "cell_type": "code",
   "execution_count": 5,
   "metadata": {
    "colab": {
     "base_uri": "https://localhost:8080/"
    },
    "id": "xAbRz8plcjLY",
    "outputId": "887d6c0a-e71c-4e8d-c05f-c37a6d143353"
   },
   "outputs": [
    {
     "data": {
      "text/plain": [
       "(73856, 8)"
      ]
     },
     "execution_count": 5,
     "metadata": {},
     "output_type": "execute_result"
    }
   ],
   "source": [
    "#checking IMDb data shape\n",
    "imdb_data.shape"
   ]
  },
  {
   "cell_type": "code",
   "execution_count": 6,
   "metadata": {
    "colab": {
     "base_uri": "https://localhost:8080/",
     "height": 292
    },
    "id": "5M0PAQQkHFUG",
    "outputId": "afe174f5-b946-41cd-bef2-4f23501bee12"
   },
   "outputs": [
    {
     "data": {
      "text/html": [
       "<div>\n",
       "<style scoped>\n",
       "    .dataframe tbody tr th:only-of-type {\n",
       "        vertical-align: middle;\n",
       "    }\n",
       "\n",
       "    .dataframe tbody tr th {\n",
       "        vertical-align: top;\n",
       "    }\n",
       "\n",
       "    .dataframe thead th {\n",
       "        text-align: right;\n",
       "    }\n",
       "</style>\n",
       "<table border=\"1\" class=\"dataframe\">\n",
       "  <thead>\n",
       "    <tr style=\"text-align: right;\">\n",
       "      <th></th>\n",
       "      <th>Unnamed: 0</th>\n",
       "      <th>genre_ids</th>\n",
       "      <th>id</th>\n",
       "      <th>original_language</th>\n",
       "      <th>original_title</th>\n",
       "      <th>popularity</th>\n",
       "      <th>release_date</th>\n",
       "      <th>title</th>\n",
       "      <th>vote_average</th>\n",
       "      <th>vote_count</th>\n",
       "    </tr>\n",
       "  </thead>\n",
       "  <tbody>\n",
       "    <tr>\n",
       "      <th>0</th>\n",
       "      <td>0</td>\n",
       "      <td>[12, 14, 10751]</td>\n",
       "      <td>12444</td>\n",
       "      <td>en</td>\n",
       "      <td>Harry Potter and the Deathly Hallows: Part 1</td>\n",
       "      <td>33.533</td>\n",
       "      <td>2010-11-19</td>\n",
       "      <td>Harry Potter and the Deathly Hallows: Part 1</td>\n",
       "      <td>7.7</td>\n",
       "      <td>10788</td>\n",
       "    </tr>\n",
       "    <tr>\n",
       "      <th>1</th>\n",
       "      <td>1</td>\n",
       "      <td>[14, 12, 16, 10751]</td>\n",
       "      <td>10191</td>\n",
       "      <td>en</td>\n",
       "      <td>How to Train Your Dragon</td>\n",
       "      <td>28.734</td>\n",
       "      <td>2010-03-26</td>\n",
       "      <td>How to Train Your Dragon</td>\n",
       "      <td>7.7</td>\n",
       "      <td>7610</td>\n",
       "    </tr>\n",
       "    <tr>\n",
       "      <th>2</th>\n",
       "      <td>2</td>\n",
       "      <td>[12, 28, 878]</td>\n",
       "      <td>10138</td>\n",
       "      <td>en</td>\n",
       "      <td>Iron Man 2</td>\n",
       "      <td>28.515</td>\n",
       "      <td>2010-05-07</td>\n",
       "      <td>Iron Man 2</td>\n",
       "      <td>6.8</td>\n",
       "      <td>12368</td>\n",
       "    </tr>\n",
       "    <tr>\n",
       "      <th>3</th>\n",
       "      <td>3</td>\n",
       "      <td>[16, 35, 10751]</td>\n",
       "      <td>862</td>\n",
       "      <td>en</td>\n",
       "      <td>Toy Story</td>\n",
       "      <td>28.005</td>\n",
       "      <td>1995-11-22</td>\n",
       "      <td>Toy Story</td>\n",
       "      <td>7.9</td>\n",
       "      <td>10174</td>\n",
       "    </tr>\n",
       "    <tr>\n",
       "      <th>4</th>\n",
       "      <td>4</td>\n",
       "      <td>[28, 878, 12]</td>\n",
       "      <td>27205</td>\n",
       "      <td>en</td>\n",
       "      <td>Inception</td>\n",
       "      <td>27.920</td>\n",
       "      <td>2010-07-16</td>\n",
       "      <td>Inception</td>\n",
       "      <td>8.3</td>\n",
       "      <td>22186</td>\n",
       "    </tr>\n",
       "  </tbody>\n",
       "</table>\n",
       "</div>"
      ],
      "text/plain": [
       "   Unnamed: 0            genre_ids     id original_language  \\\n",
       "0           0      [12, 14, 10751]  12444                en   \n",
       "1           1  [14, 12, 16, 10751]  10191                en   \n",
       "2           2        [12, 28, 878]  10138                en   \n",
       "3           3      [16, 35, 10751]    862                en   \n",
       "4           4        [28, 878, 12]  27205                en   \n",
       "\n",
       "                                 original_title  popularity release_date  \\\n",
       "0  Harry Potter and the Deathly Hallows: Part 1      33.533   2010-11-19   \n",
       "1                      How to Train Your Dragon      28.734   2010-03-26   \n",
       "2                                    Iron Man 2      28.515   2010-05-07   \n",
       "3                                     Toy Story      28.005   1995-11-22   \n",
       "4                                     Inception      27.920   2010-07-16   \n",
       "\n",
       "                                          title  vote_average  vote_count  \n",
       "0  Harry Potter and the Deathly Hallows: Part 1           7.7       10788  \n",
       "1                      How to Train Your Dragon           7.7        7610  \n",
       "2                                    Iron Man 2           6.8       12368  \n",
       "3                                     Toy Story           7.9       10174  \n",
       "4                                     Inception           8.3       22186  "
      ]
     },
     "execution_count": 6,
     "metadata": {},
     "output_type": "execute_result"
    }
   ],
   "source": [
    "# Importing data from The Movie Database\n",
    "tmdb_data = pd.read_csv('tmdb.movies.csv')\n",
    "tmdb_data.head()"
   ]
  },
  {
   "cell_type": "code",
   "execution_count": 7,
   "metadata": {
    "colab": {
     "base_uri": "https://localhost:8080/"
    },
    "id": "WE_0QUjiZBkU",
    "outputId": "f3e87e35-3b5b-4153-847c-f839f8de981b"
   },
   "outputs": [
    {
     "data": {
      "text/plain": [
       "(26517, 10)"
      ]
     },
     "execution_count": 7,
     "metadata": {},
     "output_type": "execute_result"
    }
   ],
   "source": [
    "#checking The Movie Data shape\n",
    "tmdb_data.shape"
   ]
  },
  {
   "cell_type": "code",
   "execution_count": 8,
   "metadata": {
    "colab": {
     "base_uri": "https://localhost:8080/",
     "height": 382
    },
    "id": "ud_KsVsvlTtw",
    "outputId": "b1e22fad-b7cb-4f80-d586-9fd5dc25d568"
   },
   "outputs": [
    {
     "data": {
      "text/html": [
       "<div>\n",
       "<style scoped>\n",
       "    .dataframe tbody tr th:only-of-type {\n",
       "        vertical-align: middle;\n",
       "    }\n",
       "\n",
       "    .dataframe tbody tr th {\n",
       "        vertical-align: top;\n",
       "    }\n",
       "\n",
       "    .dataframe thead th {\n",
       "        text-align: right;\n",
       "    }\n",
       "</style>\n",
       "<table border=\"1\" class=\"dataframe\">\n",
       "  <thead>\n",
       "    <tr style=\"text-align: right;\">\n",
       "      <th></th>\n",
       "      <th>tconst</th>\n",
       "      <th>title</th>\n",
       "      <th>original_title</th>\n",
       "      <th>start_year</th>\n",
       "      <th>runtime_minutes</th>\n",
       "      <th>genres</th>\n",
       "      <th>averagerating</th>\n",
       "      <th>numvotes</th>\n",
       "      <th>Unnamed: 0</th>\n",
       "      <th>genre_ids</th>\n",
       "      <th>id</th>\n",
       "      <th>original_language</th>\n",
       "      <th>original_titler</th>\n",
       "      <th>popularity</th>\n",
       "      <th>release_date</th>\n",
       "      <th>vote_average</th>\n",
       "      <th>vote_count</th>\n",
       "    </tr>\n",
       "  </thead>\n",
       "  <tbody>\n",
       "    <tr>\n",
       "      <th>2</th>\n",
       "      <td>tt0069049</td>\n",
       "      <td>The Other Side of the Wind</td>\n",
       "      <td>The Other Side of the Wind</td>\n",
       "      <td>2018</td>\n",
       "      <td>122.0</td>\n",
       "      <td>Drama</td>\n",
       "      <td>6.9</td>\n",
       "      <td>4517</td>\n",
       "      <td>24185</td>\n",
       "      <td>[35, 18]</td>\n",
       "      <td>299782</td>\n",
       "      <td>en</td>\n",
       "      <td>The Other Side of the Wind</td>\n",
       "      <td>9.800</td>\n",
       "      <td>2018-11-02</td>\n",
       "      <td>7.0</td>\n",
       "      <td>64</td>\n",
       "    </tr>\n",
       "    <tr>\n",
       "      <th>6</th>\n",
       "      <td>tt0112502</td>\n",
       "      <td>Bigfoot</td>\n",
       "      <td>Bigfoot</td>\n",
       "      <td>2017</td>\n",
       "      <td>NaN</td>\n",
       "      <td>Horror,Thriller</td>\n",
       "      <td>4.1</td>\n",
       "      <td>32</td>\n",
       "      <td>5872</td>\n",
       "      <td>[27, 878, 12]</td>\n",
       "      <td>117856</td>\n",
       "      <td>en</td>\n",
       "      <td>Bigfoot</td>\n",
       "      <td>2.813</td>\n",
       "      <td>2012-06-30</td>\n",
       "      <td>2.9</td>\n",
       "      <td>26</td>\n",
       "    </tr>\n",
       "    <tr>\n",
       "      <th>78425</th>\n",
       "      <td>tt4503112</td>\n",
       "      <td>Bigfoot</td>\n",
       "      <td>Bigfoot</td>\n",
       "      <td>2018</td>\n",
       "      <td>NaN</td>\n",
       "      <td>Action,Horror</td>\n",
       "      <td>4.6</td>\n",
       "      <td>9</td>\n",
       "      <td>5872</td>\n",
       "      <td>[27, 878, 12]</td>\n",
       "      <td>117856</td>\n",
       "      <td>en</td>\n",
       "      <td>Bigfoot</td>\n",
       "      <td>2.813</td>\n",
       "      <td>2012-06-30</td>\n",
       "      <td>2.9</td>\n",
       "      <td>26</td>\n",
       "    </tr>\n",
       "    <tr>\n",
       "      <th>141086</th>\n",
       "      <td>tt9181914</td>\n",
       "      <td>Bigfoot</td>\n",
       "      <td>Bigfoot</td>\n",
       "      <td>2018</td>\n",
       "      <td>86.0</td>\n",
       "      <td>Animation,Family</td>\n",
       "      <td>2.5</td>\n",
       "      <td>55</td>\n",
       "      <td>5872</td>\n",
       "      <td>[27, 878, 12]</td>\n",
       "      <td>117856</td>\n",
       "      <td>en</td>\n",
       "      <td>Bigfoot</td>\n",
       "      <td>2.813</td>\n",
       "      <td>2012-06-30</td>\n",
       "      <td>2.9</td>\n",
       "      <td>26</td>\n",
       "    </tr>\n",
       "    <tr>\n",
       "      <th>17</th>\n",
       "      <td>tt0192528</td>\n",
       "      <td>Heaven &amp; Hell</td>\n",
       "      <td>Reverse Heaven</td>\n",
       "      <td>2018</td>\n",
       "      <td>104.0</td>\n",
       "      <td>Drama</td>\n",
       "      <td>4.0</td>\n",
       "      <td>72</td>\n",
       "      <td>26332</td>\n",
       "      <td>[18]</td>\n",
       "      <td>567662</td>\n",
       "      <td>en</td>\n",
       "      <td>Heaven &amp; Hell</td>\n",
       "      <td>0.600</td>\n",
       "      <td>2018-11-06</td>\n",
       "      <td>7.5</td>\n",
       "      <td>2</td>\n",
       "    </tr>\n",
       "  </tbody>\n",
       "</table>\n",
       "</div>"
      ],
      "text/plain": [
       "           tconst                       title              original_title  \\\n",
       "2       tt0069049  The Other Side of the Wind  The Other Side of the Wind   \n",
       "6       tt0112502                     Bigfoot                     Bigfoot   \n",
       "78425   tt4503112                     Bigfoot                     Bigfoot   \n",
       "141086  tt9181914                     Bigfoot                     Bigfoot   \n",
       "17      tt0192528               Heaven & Hell              Reverse Heaven   \n",
       "\n",
       "        start_year  runtime_minutes            genres  averagerating  \\\n",
       "2             2018            122.0             Drama            6.9   \n",
       "6             2017              NaN   Horror,Thriller            4.1   \n",
       "78425         2018              NaN     Action,Horror            4.6   \n",
       "141086        2018             86.0  Animation,Family            2.5   \n",
       "17            2018            104.0             Drama            4.0   \n",
       "\n",
       "        numvotes  Unnamed: 0      genre_ids      id original_language  \\\n",
       "2           4517       24185       [35, 18]  299782                en   \n",
       "6             32        5872  [27, 878, 12]  117856                en   \n",
       "78425          9        5872  [27, 878, 12]  117856                en   \n",
       "141086        55        5872  [27, 878, 12]  117856                en   \n",
       "17            72       26332           [18]  567662                en   \n",
       "\n",
       "                   original_titler  popularity release_date  vote_average  \\\n",
       "2       The Other Side of the Wind       9.800   2018-11-02           7.0   \n",
       "6                          Bigfoot       2.813   2012-06-30           2.9   \n",
       "78425                      Bigfoot       2.813   2012-06-30           2.9   \n",
       "141086                     Bigfoot       2.813   2012-06-30           2.9   \n",
       "17                   Heaven & Hell       0.600   2018-11-06           7.5   \n",
       "\n",
       "        vote_count  \n",
       "2               64  \n",
       "6               26  \n",
       "78425           26  \n",
       "141086          26  \n",
       "17               2  "
      ]
     },
     "execution_count": 8,
     "metadata": {},
     "output_type": "execute_result"
    }
   ],
   "source": [
    "#merging IMDb database with The Movie database\n",
    "movie_production_db = imdb_data.join(tmdb_data.set_index('title'),\n",
    "                                   how = 'inner', on = 'title', rsuffix = 'r')\n",
    "movie_production_db.head()"
   ]
  },
  {
   "cell_type": "code",
   "execution_count": 9,
   "metadata": {
    "colab": {
     "base_uri": "https://localhost:8080/"
    },
    "id": "rCWzlPqXnAvF",
    "outputId": "44c39016-3dc8-4ef9-e59c-8135db73ff75"
   },
   "outputs": [
    {
     "data": {
      "text/plain": [
       "(19949, 17)"
      ]
     },
     "execution_count": 9,
     "metadata": {},
     "output_type": "execute_result"
    }
   ],
   "source": [
    "#checking movie production database shape\n",
    "movie_production_db.shape"
   ]
  },
  {
   "cell_type": "markdown",
   "metadata": {
    "id": "jxdJPoSPniZW"
   },
   "source": [
    "\n",
    "**Financial Data Preparation**"
   ]
  },
  {
   "cell_type": "code",
   "execution_count": 10,
   "metadata": {
    "colab": {
     "base_uri": "https://localhost:8080/",
     "height": 206
    },
    "id": "Zo4XnKjssCbG",
    "outputId": "e2d9475c-0e7a-4a70-a840-5629df330b1c"
   },
   "outputs": [
    {
     "data": {
      "text/html": [
       "<div>\n",
       "<style scoped>\n",
       "    .dataframe tbody tr th:only-of-type {\n",
       "        vertical-align: middle;\n",
       "    }\n",
       "\n",
       "    .dataframe tbody tr th {\n",
       "        vertical-align: top;\n",
       "    }\n",
       "\n",
       "    .dataframe thead th {\n",
       "        text-align: right;\n",
       "    }\n",
       "</style>\n",
       "<table border=\"1\" class=\"dataframe\">\n",
       "  <thead>\n",
       "    <tr style=\"text-align: right;\">\n",
       "      <th></th>\n",
       "      <th>title</th>\n",
       "      <th>studio</th>\n",
       "      <th>domestic_gross</th>\n",
       "      <th>foreign_gross</th>\n",
       "      <th>year</th>\n",
       "    </tr>\n",
       "  </thead>\n",
       "  <tbody>\n",
       "    <tr>\n",
       "      <th>0</th>\n",
       "      <td>Toy Story 3</td>\n",
       "      <td>BV</td>\n",
       "      <td>415000000.0</td>\n",
       "      <td>652000000</td>\n",
       "      <td>2010</td>\n",
       "    </tr>\n",
       "    <tr>\n",
       "      <th>1</th>\n",
       "      <td>Alice in Wonderland (2010)</td>\n",
       "      <td>BV</td>\n",
       "      <td>334200000.0</td>\n",
       "      <td>691300000</td>\n",
       "      <td>2010</td>\n",
       "    </tr>\n",
       "    <tr>\n",
       "      <th>2</th>\n",
       "      <td>Harry Potter and the Deathly Hallows Part 1</td>\n",
       "      <td>WB</td>\n",
       "      <td>296000000.0</td>\n",
       "      <td>664300000</td>\n",
       "      <td>2010</td>\n",
       "    </tr>\n",
       "    <tr>\n",
       "      <th>3</th>\n",
       "      <td>Inception</td>\n",
       "      <td>WB</td>\n",
       "      <td>292600000.0</td>\n",
       "      <td>535700000</td>\n",
       "      <td>2010</td>\n",
       "    </tr>\n",
       "    <tr>\n",
       "      <th>4</th>\n",
       "      <td>Shrek Forever After</td>\n",
       "      <td>P/DW</td>\n",
       "      <td>238700000.0</td>\n",
       "      <td>513900000</td>\n",
       "      <td>2010</td>\n",
       "    </tr>\n",
       "  </tbody>\n",
       "</table>\n",
       "</div>"
      ],
      "text/plain": [
       "                                         title studio  domestic_gross  \\\n",
       "0                                  Toy Story 3     BV     415000000.0   \n",
       "1                   Alice in Wonderland (2010)     BV     334200000.0   \n",
       "2  Harry Potter and the Deathly Hallows Part 1     WB     296000000.0   \n",
       "3                                    Inception     WB     292600000.0   \n",
       "4                          Shrek Forever After   P/DW     238700000.0   \n",
       "\n",
       "  foreign_gross  year  \n",
       "0     652000000  2010  \n",
       "1     691300000  2010  \n",
       "2     664300000  2010  \n",
       "3     535700000  2010  \n",
       "4     513900000  2010  "
      ]
     },
     "execution_count": 10,
     "metadata": {},
     "output_type": "execute_result"
    }
   ],
   "source": [
    "#importing data from Box Office - gross returns and the studios involved\n",
    "movies_gross = pd.read_csv('bom.movie_gross.csv')\n",
    "movies_gross.head()"
   ]
  },
  {
   "cell_type": "code",
   "execution_count": 11,
   "metadata": {
    "colab": {
     "base_uri": "https://localhost:8080/"
    },
    "id": "qpioLrXFzbVo",
    "outputId": "028095dc-3d0e-4d90-f3e4-d224aa5c1484"
   },
   "outputs": [
    {
     "data": {
      "text/plain": [
       "(3387, 5)"
      ]
     },
     "execution_count": 11,
     "metadata": {},
     "output_type": "execute_result"
    }
   ],
   "source": [
    "#checking the gross return data shape\n",
    "movies_gross.shape"
   ]
  },
  {
   "cell_type": "code",
   "execution_count": 12,
   "metadata": {
    "colab": {
     "base_uri": "https://localhost:8080/",
     "height": 206
    },
    "id": "jm7zwbBOZJtY",
    "outputId": "80b5d4b0-2c64-4026-a673-35b0567a5c08"
   },
   "outputs": [
    {
     "data": {
      "text/html": [
       "<div>\n",
       "<style scoped>\n",
       "    .dataframe tbody tr th:only-of-type {\n",
       "        vertical-align: middle;\n",
       "    }\n",
       "\n",
       "    .dataframe tbody tr th {\n",
       "        vertical-align: top;\n",
       "    }\n",
       "\n",
       "    .dataframe thead th {\n",
       "        text-align: right;\n",
       "    }\n",
       "</style>\n",
       "<table border=\"1\" class=\"dataframe\">\n",
       "  <thead>\n",
       "    <tr style=\"text-align: right;\">\n",
       "      <th></th>\n",
       "      <th>id</th>\n",
       "      <th>release_date</th>\n",
       "      <th>title</th>\n",
       "      <th>production_budget</th>\n",
       "      <th>domestic_gross</th>\n",
       "      <th>worldwide_gross</th>\n",
       "      <th>Profit</th>\n",
       "    </tr>\n",
       "  </thead>\n",
       "  <tbody>\n",
       "    <tr>\n",
       "      <th>0</th>\n",
       "      <td>1</td>\n",
       "      <td>Dec 18, 2009</td>\n",
       "      <td>Avatar</td>\n",
       "      <td>425000000.0</td>\n",
       "      <td>760507625.0</td>\n",
       "      <td>2.776345e+09</td>\n",
       "      <td>2.351345e+09</td>\n",
       "    </tr>\n",
       "    <tr>\n",
       "      <th>1</th>\n",
       "      <td>2</td>\n",
       "      <td>May 20, 2011</td>\n",
       "      <td>Pirates of the Caribbean: On Stranger Tides</td>\n",
       "      <td>410600000.0</td>\n",
       "      <td>241063875.0</td>\n",
       "      <td>1.045664e+09</td>\n",
       "      <td>6.350639e+08</td>\n",
       "    </tr>\n",
       "    <tr>\n",
       "      <th>2</th>\n",
       "      <td>3</td>\n",
       "      <td>Jun 7, 2019</td>\n",
       "      <td>Dark Phoenix</td>\n",
       "      <td>350000000.0</td>\n",
       "      <td>42762350.0</td>\n",
       "      <td>1.497624e+08</td>\n",
       "      <td>-2.002376e+08</td>\n",
       "    </tr>\n",
       "    <tr>\n",
       "      <th>3</th>\n",
       "      <td>4</td>\n",
       "      <td>May 1, 2015</td>\n",
       "      <td>Avengers: Age of Ultron</td>\n",
       "      <td>330600000.0</td>\n",
       "      <td>459005868.0</td>\n",
       "      <td>1.403014e+09</td>\n",
       "      <td>1.072414e+09</td>\n",
       "    </tr>\n",
       "    <tr>\n",
       "      <th>4</th>\n",
       "      <td>5</td>\n",
       "      <td>Dec 15, 2017</td>\n",
       "      <td>Star Wars Ep. VIII: The Last Jedi</td>\n",
       "      <td>317000000.0</td>\n",
       "      <td>620181382.0</td>\n",
       "      <td>1.316722e+09</td>\n",
       "      <td>9.997217e+08</td>\n",
       "    </tr>\n",
       "  </tbody>\n",
       "</table>\n",
       "</div>"
      ],
      "text/plain": [
       "   id  release_date                                        title  \\\n",
       "0   1  Dec 18, 2009                                       Avatar   \n",
       "1   2  May 20, 2011  Pirates of the Caribbean: On Stranger Tides   \n",
       "2   3   Jun 7, 2019                                 Dark Phoenix   \n",
       "3   4   May 1, 2015                      Avengers: Age of Ultron   \n",
       "4   5  Dec 15, 2017            Star Wars Ep. VIII: The Last Jedi   \n",
       "\n",
       "   production_budget  domestic_gross  worldwide_gross        Profit  \n",
       "0        425000000.0     760507625.0     2.776345e+09  2.351345e+09  \n",
       "1        410600000.0     241063875.0     1.045664e+09  6.350639e+08  \n",
       "2        350000000.0      42762350.0     1.497624e+08 -2.002376e+08  \n",
       "3        330600000.0     459005868.0     1.403014e+09  1.072414e+09  \n",
       "4        317000000.0     620181382.0     1.316722e+09  9.997217e+08  "
      ]
     },
     "execution_count": 12,
     "metadata": {},
     "output_type": "execute_result"
    }
   ],
   "source": [
    "#Importing data from The Numbers database - production budget against worldwide gross\n",
    "movies_budget = pd.read_csv('tn.movie_budgets.csv')\n",
    "\n",
    "#change column name 'movie' to 'title' to match our additional files\n",
    "movies_budget.rename(columns = {'movie':'title'}, inplace = True)\n",
    "\n",
    "# converting budgets dataset to string to be able to calculate profits\n",
    "movies_budget['worldwide_gross'] = movies_budget['worldwide_gross'].astype(str)\n",
    "movies_budget['domestic_gross'] = movies_budget['domestic_gross'].astype(str)\n",
    "movies_budget['production_budget'] = movies_budget['production_budget'].astype(str)\n",
    "\n",
    "# removing the Dollar Sign to make the columns floats\n",
    "movies_budget['production_budget'] = movies_budget['production_budget'].str.replace('$', '').str.replace(',', '').astype(float)\n",
    "movies_budget['worldwide_gross'] = movies_budget['worldwide_gross'].str.replace('$', '').str.replace(',', '').astype(float)\n",
    "movies_budget['domestic_gross'] = movies_budget['domestic_gross'].str.replace('$', '').str.replace(',', '').astype(float)\n",
    "\n",
    "# calculating the profits\n",
    "movies_budget['Profit'] = movies_budget['worldwide_gross'] - movies_budget['production_budget']\n",
    "\n",
    "movies_budget.head()"
   ]
  },
  {
   "cell_type": "code",
   "execution_count": 13,
   "metadata": {
    "colab": {
     "base_uri": "https://localhost:8080/"
    },
    "id": "nyzsxvcgZgp4",
    "outputId": "e28b98a2-5ca8-408f-c3e9-95b60fdc3ff2"
   },
   "outputs": [
    {
     "data": {
      "text/plain": [
       "(5782, 7)"
      ]
     },
     "execution_count": 13,
     "metadata": {},
     "output_type": "execute_result"
    }
   ],
   "source": [
    "movies_budget.shape"
   ]
  },
  {
   "cell_type": "code",
   "execution_count": 14,
   "metadata": {
    "colab": {
     "base_uri": "https://localhost:8080/",
     "height": 223
    },
    "id": "OmItUr1qhcR8",
    "outputId": "ac5f5332-e879-496d-823f-235869900069"
   },
   "outputs": [
    {
     "data": {
      "text/html": [
       "<div>\n",
       "<style scoped>\n",
       "    .dataframe tbody tr th:only-of-type {\n",
       "        vertical-align: middle;\n",
       "    }\n",
       "\n",
       "    .dataframe tbody tr th {\n",
       "        vertical-align: top;\n",
       "    }\n",
       "\n",
       "    .dataframe thead th {\n",
       "        text-align: right;\n",
       "    }\n",
       "</style>\n",
       "<table border=\"1\" class=\"dataframe\">\n",
       "  <thead>\n",
       "    <tr style=\"text-align: right;\">\n",
       "      <th></th>\n",
       "      <th>title</th>\n",
       "      <th>studio</th>\n",
       "      <th>domestic_gross</th>\n",
       "      <th>foreign_gross</th>\n",
       "      <th>year</th>\n",
       "      <th>id</th>\n",
       "      <th>release_date</th>\n",
       "      <th>production_budget</th>\n",
       "      <th>worldwide_gross</th>\n",
       "      <th>Profit</th>\n",
       "    </tr>\n",
       "  </thead>\n",
       "  <tbody>\n",
       "    <tr>\n",
       "      <th>0</th>\n",
       "      <td>Toy Story 3</td>\n",
       "      <td>BV</td>\n",
       "      <td>415000000.0</td>\n",
       "      <td>652000000</td>\n",
       "      <td>2010.0</td>\n",
       "      <td>NaN</td>\n",
       "      <td>NaN</td>\n",
       "      <td>NaN</td>\n",
       "      <td>NaN</td>\n",
       "      <td>NaN</td>\n",
       "    </tr>\n",
       "    <tr>\n",
       "      <th>1</th>\n",
       "      <td>Alice in Wonderland (2010)</td>\n",
       "      <td>BV</td>\n",
       "      <td>334200000.0</td>\n",
       "      <td>691300000</td>\n",
       "      <td>2010.0</td>\n",
       "      <td>NaN</td>\n",
       "      <td>NaN</td>\n",
       "      <td>NaN</td>\n",
       "      <td>NaN</td>\n",
       "      <td>NaN</td>\n",
       "    </tr>\n",
       "    <tr>\n",
       "      <th>2</th>\n",
       "      <td>Harry Potter and the Deathly Hallows Part 1</td>\n",
       "      <td>WB</td>\n",
       "      <td>296000000.0</td>\n",
       "      <td>664300000</td>\n",
       "      <td>2010.0</td>\n",
       "      <td>NaN</td>\n",
       "      <td>NaN</td>\n",
       "      <td>NaN</td>\n",
       "      <td>NaN</td>\n",
       "      <td>NaN</td>\n",
       "    </tr>\n",
       "    <tr>\n",
       "      <th>3</th>\n",
       "      <td>Inception</td>\n",
       "      <td>WB</td>\n",
       "      <td>292600000.0</td>\n",
       "      <td>535700000</td>\n",
       "      <td>2010.0</td>\n",
       "      <td>NaN</td>\n",
       "      <td>NaN</td>\n",
       "      <td>NaN</td>\n",
       "      <td>NaN</td>\n",
       "      <td>NaN</td>\n",
       "    </tr>\n",
       "    <tr>\n",
       "      <th>4</th>\n",
       "      <td>Shrek Forever After</td>\n",
       "      <td>P/DW</td>\n",
       "      <td>238700000.0</td>\n",
       "      <td>513900000</td>\n",
       "      <td>2010.0</td>\n",
       "      <td>NaN</td>\n",
       "      <td>NaN</td>\n",
       "      <td>NaN</td>\n",
       "      <td>NaN</td>\n",
       "      <td>NaN</td>\n",
       "    </tr>\n",
       "  </tbody>\n",
       "</table>\n",
       "</div>"
      ],
      "text/plain": [
       "                                         title studio  domestic_gross  \\\n",
       "0                                  Toy Story 3     BV     415000000.0   \n",
       "1                   Alice in Wonderland (2010)     BV     334200000.0   \n",
       "2  Harry Potter and the Deathly Hallows Part 1     WB     296000000.0   \n",
       "3                                    Inception     WB     292600000.0   \n",
       "4                          Shrek Forever After   P/DW     238700000.0   \n",
       "\n",
       "  foreign_gross    year  id release_date  production_budget  worldwide_gross  \\\n",
       "0     652000000  2010.0 NaN          NaN                NaN              NaN   \n",
       "1     691300000  2010.0 NaN          NaN                NaN              NaN   \n",
       "2     664300000  2010.0 NaN          NaN                NaN              NaN   \n",
       "3     535700000  2010.0 NaN          NaN                NaN              NaN   \n",
       "4     513900000  2010.0 NaN          NaN                NaN              NaN   \n",
       "\n",
       "   Profit  \n",
       "0     NaN  \n",
       "1     NaN  \n",
       "2     NaN  \n",
       "3     NaN  \n",
       "4     NaN  "
      ]
     },
     "execution_count": 14,
     "metadata": {},
     "output_type": "execute_result"
    }
   ],
   "source": [
    "#concatenating the movies gross and movies budget\n",
    "financial_analysis_data = pd.concat([movies_gross,movies_budget])\n",
    "financial_analysis_data.head()"
   ]
  },
  {
   "cell_type": "code",
   "execution_count": 15,
   "metadata": {
    "colab": {
     "base_uri": "https://localhost:8080/"
    },
    "id": "czhqlY26-Wj-",
    "outputId": "d2256da3-ce5d-402c-cfee-eaf76815a0d3"
   },
   "outputs": [
    {
     "data": {
      "text/plain": [
       "(9169, 10)"
      ]
     },
     "execution_count": 15,
     "metadata": {},
     "output_type": "execute_result"
    }
   ],
   "source": [
    "#checking financial data shape\n",
    "financial_analysis_data.shape"
   ]
  },
  {
   "cell_type": "markdown",
   "metadata": {
    "id": "j8MYW-xOfQC4"
   },
   "source": [
    "**The Big Merge!**\n"
   ]
  },
  {
   "cell_type": "code",
   "execution_count": 16,
   "metadata": {
    "colab": {
     "base_uri": "https://localhost:8080/",
     "height": 377
    },
    "id": "t9fe_8ZUqAU9",
    "outputId": "fe841a8d-2048-4dbd-8213-dc1d49d5a853"
   },
   "outputs": [
    {
     "data": {
      "text/html": [
       "<div>\n",
       "<style scoped>\n",
       "    .dataframe tbody tr th:only-of-type {\n",
       "        vertical-align: middle;\n",
       "    }\n",
       "\n",
       "    .dataframe tbody tr th {\n",
       "        vertical-align: top;\n",
       "    }\n",
       "\n",
       "    .dataframe thead th {\n",
       "        text-align: right;\n",
       "    }\n",
       "</style>\n",
       "<table border=\"1\" class=\"dataframe\">\n",
       "  <thead>\n",
       "    <tr style=\"text-align: right;\">\n",
       "      <th></th>\n",
       "      <th>tconst</th>\n",
       "      <th>title</th>\n",
       "      <th>original_title</th>\n",
       "      <th>start_year</th>\n",
       "      <th>runtime_minutes</th>\n",
       "      <th>genres</th>\n",
       "      <th>averagerating</th>\n",
       "      <th>numvotes</th>\n",
       "      <th>Unnamed: 0</th>\n",
       "      <th>genre_ids</th>\n",
       "      <th>...</th>\n",
       "      <th>vote_count</th>\n",
       "      <th>studio</th>\n",
       "      <th>domestic_gross</th>\n",
       "      <th>foreign_gross</th>\n",
       "      <th>year</th>\n",
       "      <th>idr</th>\n",
       "      <th>release_dater</th>\n",
       "      <th>production_budget</th>\n",
       "      <th>worldwide_gross</th>\n",
       "      <th>Profit</th>\n",
       "    </tr>\n",
       "  </thead>\n",
       "  <tbody>\n",
       "    <tr>\n",
       "      <th>20</th>\n",
       "      <td>tt0249516</td>\n",
       "      <td>Foodfight!</td>\n",
       "      <td>Foodfight!</td>\n",
       "      <td>2012</td>\n",
       "      <td>91.0</td>\n",
       "      <td>Action,Animation,Comedy</td>\n",
       "      <td>1.9</td>\n",
       "      <td>8248</td>\n",
       "      <td>8456</td>\n",
       "      <td>[16, 28, 35, 10751]</td>\n",
       "      <td>...</td>\n",
       "      <td>46</td>\n",
       "      <td>NaN</td>\n",
       "      <td>0.0</td>\n",
       "      <td>NaN</td>\n",
       "      <td>NaN</td>\n",
       "      <td>26.0</td>\n",
       "      <td>Dec 31, 2012</td>\n",
       "      <td>45000000.0</td>\n",
       "      <td>73706.0</td>\n",
       "      <td>-44926294.0</td>\n",
       "    </tr>\n",
       "    <tr>\n",
       "      <th>38</th>\n",
       "      <td>tt0315642</td>\n",
       "      <td>Wazir</td>\n",
       "      <td>Wazir</td>\n",
       "      <td>2016</td>\n",
       "      <td>103.0</td>\n",
       "      <td>Action,Crime,Drama</td>\n",
       "      <td>7.1</td>\n",
       "      <td>15378</td>\n",
       "      <td>18152</td>\n",
       "      <td>[53, 28, 80, 18, 9648]</td>\n",
       "      <td>...</td>\n",
       "      <td>63</td>\n",
       "      <td>Relbig.</td>\n",
       "      <td>1100000.0</td>\n",
       "      <td>NaN</td>\n",
       "      <td>2016.0</td>\n",
       "      <td>NaN</td>\n",
       "      <td>NaN</td>\n",
       "      <td>NaN</td>\n",
       "      <td>NaN</td>\n",
       "      <td>NaN</td>\n",
       "    </tr>\n",
       "    <tr>\n",
       "      <th>40</th>\n",
       "      <td>tt0326592</td>\n",
       "      <td>The Overnight</td>\n",
       "      <td>The Overnight</td>\n",
       "      <td>2010</td>\n",
       "      <td>88.0</td>\n",
       "      <td>NaN</td>\n",
       "      <td>7.5</td>\n",
       "      <td>24</td>\n",
       "      <td>14596</td>\n",
       "      <td>[9648, 35]</td>\n",
       "      <td>...</td>\n",
       "      <td>200</td>\n",
       "      <td>NaN</td>\n",
       "      <td>1109808.0</td>\n",
       "      <td>NaN</td>\n",
       "      <td>NaN</td>\n",
       "      <td>21.0</td>\n",
       "      <td>Jun 19, 2015</td>\n",
       "      <td>200000.0</td>\n",
       "      <td>1165996.0</td>\n",
       "      <td>965996.0</td>\n",
       "    </tr>\n",
       "    <tr>\n",
       "      <th>67603</th>\n",
       "      <td>tt3844362</td>\n",
       "      <td>The Overnight</td>\n",
       "      <td>The Overnight</td>\n",
       "      <td>2015</td>\n",
       "      <td>79.0</td>\n",
       "      <td>Comedy,Mystery</td>\n",
       "      <td>6.1</td>\n",
       "      <td>14828</td>\n",
       "      <td>14596</td>\n",
       "      <td>[9648, 35]</td>\n",
       "      <td>...</td>\n",
       "      <td>200</td>\n",
       "      <td>NaN</td>\n",
       "      <td>1109808.0</td>\n",
       "      <td>NaN</td>\n",
       "      <td>NaN</td>\n",
       "      <td>21.0</td>\n",
       "      <td>Jun 19, 2015</td>\n",
       "      <td>200000.0</td>\n",
       "      <td>1165996.0</td>\n",
       "      <td>965996.0</td>\n",
       "    </tr>\n",
       "    <tr>\n",
       "      <th>48</th>\n",
       "      <td>tt0337692</td>\n",
       "      <td>On the Road</td>\n",
       "      <td>On the Road</td>\n",
       "      <td>2012</td>\n",
       "      <td>124.0</td>\n",
       "      <td>Adventure,Drama,Romance</td>\n",
       "      <td>6.1</td>\n",
       "      <td>37886</td>\n",
       "      <td>5350</td>\n",
       "      <td>[12, 18]</td>\n",
       "      <td>...</td>\n",
       "      <td>518</td>\n",
       "      <td>IFC</td>\n",
       "      <td>744000.0</td>\n",
       "      <td>8000000</td>\n",
       "      <td>2012.0</td>\n",
       "      <td>NaN</td>\n",
       "      <td>NaN</td>\n",
       "      <td>NaN</td>\n",
       "      <td>NaN</td>\n",
       "      <td>NaN</td>\n",
       "    </tr>\n",
       "  </tbody>\n",
       "</table>\n",
       "<p>5 rows × 26 columns</p>\n",
       "</div>"
      ],
      "text/plain": [
       "          tconst          title original_title  start_year  runtime_minutes  \\\n",
       "20     tt0249516     Foodfight!     Foodfight!        2012             91.0   \n",
       "38     tt0315642          Wazir          Wazir        2016            103.0   \n",
       "40     tt0326592  The Overnight  The Overnight        2010             88.0   \n",
       "67603  tt3844362  The Overnight  The Overnight        2015             79.0   \n",
       "48     tt0337692    On the Road    On the Road        2012            124.0   \n",
       "\n",
       "                        genres  averagerating  numvotes  Unnamed: 0  \\\n",
       "20     Action,Animation,Comedy            1.9      8248        8456   \n",
       "38          Action,Crime,Drama            7.1     15378       18152   \n",
       "40                         NaN            7.5        24       14596   \n",
       "67603           Comedy,Mystery            6.1     14828       14596   \n",
       "48     Adventure,Drama,Romance            6.1     37886        5350   \n",
       "\n",
       "                    genre_ids  ...  vote_count   studio domestic_gross  \\\n",
       "20        [16, 28, 35, 10751]  ...          46      NaN            0.0   \n",
       "38     [53, 28, 80, 18, 9648]  ...          63  Relbig.      1100000.0   \n",
       "40                 [9648, 35]  ...         200      NaN      1109808.0   \n",
       "67603              [9648, 35]  ...         200      NaN      1109808.0   \n",
       "48                   [12, 18]  ...         518      IFC       744000.0   \n",
       "\n",
       "       foreign_gross    year   idr  release_dater production_budget  \\\n",
       "20               NaN     NaN  26.0   Dec 31, 2012        45000000.0   \n",
       "38               NaN  2016.0   NaN            NaN               NaN   \n",
       "40               NaN     NaN  21.0   Jun 19, 2015          200000.0   \n",
       "67603            NaN     NaN  21.0   Jun 19, 2015          200000.0   \n",
       "48           8000000  2012.0   NaN            NaN               NaN   \n",
       "\n",
       "       worldwide_gross      Profit  \n",
       "20             73706.0 -44926294.0  \n",
       "38                 NaN         NaN  \n",
       "40           1165996.0    965996.0  \n",
       "67603        1165996.0    965996.0  \n",
       "48                 NaN         NaN  \n",
       "\n",
       "[5 rows x 26 columns]"
      ]
     },
     "execution_count": 16,
     "metadata": {},
     "output_type": "execute_result"
    }
   ],
   "source": [
    "#merging our production data to our financial analysis data\n",
    "integrated_db = movie_production_db.join(financial_analysis_data.set_index('title'),\n",
    "                                   how = 'inner', on = 'title', rsuffix = 'r')\n",
    "integrated_db.head()"
   ]
  },
  {
   "cell_type": "code",
   "execution_count": 17,
   "metadata": {
    "colab": {
     "base_uri": "https://localhost:8080/"
    },
    "id": "H1meBDrjrXs8",
    "outputId": "96fa6cce-8319-4b3b-d5f6-2cfc696851f6"
   },
   "outputs": [
    {
     "data": {
      "text/plain": [
       "(6658, 26)"
      ]
     },
     "execution_count": 17,
     "metadata": {},
     "output_type": "execute_result"
    }
   ],
   "source": [
    "#checking our integrated database shape\n",
    "integrated_db.shape"
   ]
  },
  {
   "cell_type": "markdown",
   "metadata": {
    "id": "210qL_JZt0bN"
   },
   "source": [
    "# **DATA CLEANING**"
   ]
  },
  {
   "cell_type": "code",
   "execution_count": 18,
   "metadata": {
    "colab": {
     "base_uri": "https://localhost:8080/"
    },
    "id": "wGJ56krNrp0X",
    "outputId": "c45258ac-1cff-482b-f2b5-2e381ce89584"
   },
   "outputs": [
    {
     "data": {
      "text/plain": [
       "tconst                  0\n",
       "title                   0\n",
       "original_title          0\n",
       "start_year              0\n",
       "runtime_minutes       178\n",
       "genres                 21\n",
       "averagerating           0\n",
       "numvotes                0\n",
       "Unnamed: 0              0\n",
       "genre_ids               0\n",
       "id                      0\n",
       "original_language       0\n",
       "original_titler         0\n",
       "popularity              0\n",
       "release_date            0\n",
       "vote_average            0\n",
       "vote_count              0\n",
       "studio               3361\n",
       "domestic_gross         29\n",
       "foreign_gross        4575\n",
       "year                 3361\n",
       "idr                  3297\n",
       "release_dater        3297\n",
       "production_budget    3297\n",
       "worldwide_gross      3297\n",
       "Profit               3297\n",
       "dtype: int64"
      ]
     },
     "execution_count": 18,
     "metadata": {},
     "output_type": "execute_result"
    }
   ],
   "source": [
    "#Checking for missing values\n",
    "integrated_db.isna().sum()"
   ]
  },
  {
   "cell_type": "markdown",
   "metadata": {
    "id": "-93aRKuZuwFc"
   },
   "source": [
    "**Dropping and Filling Missing  Values**"
   ]
  },
  {
   "cell_type": "code",
   "execution_count": 19,
   "metadata": {
    "id": "XFilKPs9xbLp"
   },
   "outputs": [],
   "source": [
    "integrated_db.runtime_minutes.fillna(integrated_db.runtime_minutes.mean(),inplace=True)\n",
    "integrated_db.domestic_gross.fillna(integrated_db.domestic_gross.mean(),inplace=True)\n",
    "###\n",
    "# Convert 'foreign_gross' column to numeric\n",
    "integrated_db['foreign_gross'] = pd.to_numeric(integrated_db['foreign_gross'], errors='coerce')\n",
    "integrated_db.foreign_gross.fillna(integrated_db.foreign_gross.mean(),inplace=True)\n",
    "###\n",
    "integrated_db.production_budget.fillna(integrated_db.production_budget.mean(),inplace=True)\n",
    "integrated_db.idr.fillna(integrated_db.idr.mean(),inplace=True)\n",
    "\n",
    "integrated_db.worldwide_gross.fillna(integrated_db.worldwide_gross.mean(),inplace=True)\n",
    "integrated_db.Profit.fillna(integrated_db.Profit.mean(),inplace=True)\n",
    "\n",
    "integrated_db['studio'].fillna('Unknown_studio', inplace=True)\n",
    "\n"
   ]
  },
  {
   "cell_type": "code",
   "execution_count": 20,
   "metadata": {
    "colab": {
     "base_uri": "https://localhost:8080/",
     "height": 651
    },
    "id": "XIbBwOSr2A_N",
    "outputId": "107620f4-6fa1-430e-e402-565b8a371625"
   },
   "outputs": [
    {
     "data": {
      "text/html": [
       "<div>\n",
       "<style scoped>\n",
       "    .dataframe tbody tr th:only-of-type {\n",
       "        vertical-align: middle;\n",
       "    }\n",
       "\n",
       "    .dataframe tbody tr th {\n",
       "        vertical-align: top;\n",
       "    }\n",
       "\n",
       "    .dataframe thead th {\n",
       "        text-align: right;\n",
       "    }\n",
       "</style>\n",
       "<table border=\"1\" class=\"dataframe\">\n",
       "  <thead>\n",
       "    <tr style=\"text-align: right;\">\n",
       "      <th></th>\n",
       "      <th>tconst</th>\n",
       "      <th>title</th>\n",
       "      <th>original_title</th>\n",
       "      <th>start_year</th>\n",
       "      <th>runtime_minutes</th>\n",
       "      <th>genres</th>\n",
       "      <th>averagerating</th>\n",
       "      <th>numvotes</th>\n",
       "      <th>Unnamed: 0</th>\n",
       "      <th>genre_ids</th>\n",
       "      <th>...</th>\n",
       "      <th>vote_count</th>\n",
       "      <th>studio</th>\n",
       "      <th>domestic_gross</th>\n",
       "      <th>foreign_gross</th>\n",
       "      <th>year</th>\n",
       "      <th>idr</th>\n",
       "      <th>release_dater</th>\n",
       "      <th>production_budget</th>\n",
       "      <th>worldwide_gross</th>\n",
       "      <th>Profit</th>\n",
       "    </tr>\n",
       "  </thead>\n",
       "  <tbody>\n",
       "    <tr>\n",
       "      <th>0</th>\n",
       "      <td>tt0249516</td>\n",
       "      <td>Foodfight!</td>\n",
       "      <td>Foodfight!</td>\n",
       "      <td>2012</td>\n",
       "      <td>91.0</td>\n",
       "      <td>Action,Animation,Comedy</td>\n",
       "      <td>1.9</td>\n",
       "      <td>8248</td>\n",
       "      <td>8456</td>\n",
       "      <td>[16, 28, 35, 10751]</td>\n",
       "      <td>...</td>\n",
       "      <td>46</td>\n",
       "      <td>Unknown_studio</td>\n",
       "      <td>0.0</td>\n",
       "      <td>8.284734e+07</td>\n",
       "      <td>2015.0</td>\n",
       "      <td>26.000000</td>\n",
       "      <td>Dec 31, 2012</td>\n",
       "      <td>4.500000e+07</td>\n",
       "      <td>7.370600e+04</td>\n",
       "      <td>-4.492629e+07</td>\n",
       "    </tr>\n",
       "    <tr>\n",
       "      <th>1</th>\n",
       "      <td>tt0315642</td>\n",
       "      <td>Wazir</td>\n",
       "      <td>Wazir</td>\n",
       "      <td>2016</td>\n",
       "      <td>103.0</td>\n",
       "      <td>Action,Crime,Drama</td>\n",
       "      <td>7.1</td>\n",
       "      <td>15378</td>\n",
       "      <td>18152</td>\n",
       "      <td>[53, 28, 80, 18, 9648]</td>\n",
       "      <td>...</td>\n",
       "      <td>63</td>\n",
       "      <td>Relbig.</td>\n",
       "      <td>1100000.0</td>\n",
       "      <td>8.284734e+07</td>\n",
       "      <td>2016.0</td>\n",
       "      <td>51.685808</td>\n",
       "      <td>Mar 27, 2015</td>\n",
       "      <td>3.534103e+07</td>\n",
       "      <td>1.098122e+08</td>\n",
       "      <td>7.447116e+07</td>\n",
       "    </tr>\n",
       "    <tr>\n",
       "      <th>2</th>\n",
       "      <td>tt0326592</td>\n",
       "      <td>The Overnight</td>\n",
       "      <td>The Overnight</td>\n",
       "      <td>2010</td>\n",
       "      <td>88.0</td>\n",
       "      <td>NaN</td>\n",
       "      <td>7.5</td>\n",
       "      <td>24</td>\n",
       "      <td>14596</td>\n",
       "      <td>[9648, 35]</td>\n",
       "      <td>...</td>\n",
       "      <td>200</td>\n",
       "      <td>Unknown_studio</td>\n",
       "      <td>1109808.0</td>\n",
       "      <td>8.284734e+07</td>\n",
       "      <td>2015.0</td>\n",
       "      <td>21.000000</td>\n",
       "      <td>Jun 19, 2015</td>\n",
       "      <td>2.000000e+05</td>\n",
       "      <td>1.165996e+06</td>\n",
       "      <td>9.659960e+05</td>\n",
       "    </tr>\n",
       "    <tr>\n",
       "      <th>3</th>\n",
       "      <td>tt3844362</td>\n",
       "      <td>The Overnight</td>\n",
       "      <td>The Overnight</td>\n",
       "      <td>2015</td>\n",
       "      <td>79.0</td>\n",
       "      <td>Comedy,Mystery</td>\n",
       "      <td>6.1</td>\n",
       "      <td>14828</td>\n",
       "      <td>14596</td>\n",
       "      <td>[9648, 35]</td>\n",
       "      <td>...</td>\n",
       "      <td>200</td>\n",
       "      <td>Unknown_studio</td>\n",
       "      <td>1109808.0</td>\n",
       "      <td>8.284734e+07</td>\n",
       "      <td>2015.0</td>\n",
       "      <td>21.000000</td>\n",
       "      <td>Jun 19, 2015</td>\n",
       "      <td>2.000000e+05</td>\n",
       "      <td>1.165996e+06</td>\n",
       "      <td>9.659960e+05</td>\n",
       "    </tr>\n",
       "    <tr>\n",
       "      <th>4</th>\n",
       "      <td>tt0337692</td>\n",
       "      <td>On the Road</td>\n",
       "      <td>On the Road</td>\n",
       "      <td>2012</td>\n",
       "      <td>124.0</td>\n",
       "      <td>Adventure,Drama,Romance</td>\n",
       "      <td>6.1</td>\n",
       "      <td>37886</td>\n",
       "      <td>5350</td>\n",
       "      <td>[12, 18]</td>\n",
       "      <td>...</td>\n",
       "      <td>518</td>\n",
       "      <td>IFC</td>\n",
       "      <td>744000.0</td>\n",
       "      <td>8.000000e+06</td>\n",
       "      <td>2012.0</td>\n",
       "      <td>51.685808</td>\n",
       "      <td>Mar 27, 2015</td>\n",
       "      <td>3.534103e+07</td>\n",
       "      <td>1.098122e+08</td>\n",
       "      <td>7.447116e+07</td>\n",
       "    </tr>\n",
       "    <tr>\n",
       "      <th>...</th>\n",
       "      <td>...</td>\n",
       "      <td>...</td>\n",
       "      <td>...</td>\n",
       "      <td>...</td>\n",
       "      <td>...</td>\n",
       "      <td>...</td>\n",
       "      <td>...</td>\n",
       "      <td>...</td>\n",
       "      <td>...</td>\n",
       "      <td>...</td>\n",
       "      <td>...</td>\n",
       "      <td>...</td>\n",
       "      <td>...</td>\n",
       "      <td>...</td>\n",
       "      <td>...</td>\n",
       "      <td>...</td>\n",
       "      <td>...</td>\n",
       "      <td>...</td>\n",
       "      <td>...</td>\n",
       "      <td>...</td>\n",
       "      <td>...</td>\n",
       "    </tr>\n",
       "    <tr>\n",
       "      <th>6653</th>\n",
       "      <td>tt8267604</td>\n",
       "      <td>Capernaum</td>\n",
       "      <td>Capharnaüm</td>\n",
       "      <td>2018</td>\n",
       "      <td>126.0</td>\n",
       "      <td>Drama</td>\n",
       "      <td>8.5</td>\n",
       "      <td>20215</td>\n",
       "      <td>23899</td>\n",
       "      <td>[18]</td>\n",
       "      <td>...</td>\n",
       "      <td>329</td>\n",
       "      <td>SPC</td>\n",
       "      <td>1700000.0</td>\n",
       "      <td>8.284734e+07</td>\n",
       "      <td>2018.0</td>\n",
       "      <td>51.685808</td>\n",
       "      <td>Mar 27, 2015</td>\n",
       "      <td>3.534103e+07</td>\n",
       "      <td>1.098122e+08</td>\n",
       "      <td>7.447116e+07</td>\n",
       "    </tr>\n",
       "    <tr>\n",
       "      <th>6654</th>\n",
       "      <td>tt8290698</td>\n",
       "      <td>The Spy Gone North</td>\n",
       "      <td>Gongjak</td>\n",
       "      <td>2018</td>\n",
       "      <td>137.0</td>\n",
       "      <td>Drama</td>\n",
       "      <td>7.2</td>\n",
       "      <td>1620</td>\n",
       "      <td>24471</td>\n",
       "      <td>[18, 36]</td>\n",
       "      <td>...</td>\n",
       "      <td>33</td>\n",
       "      <td>CJ</td>\n",
       "      <td>501000.0</td>\n",
       "      <td>8.284734e+07</td>\n",
       "      <td>2018.0</td>\n",
       "      <td>51.685808</td>\n",
       "      <td>Mar 27, 2015</td>\n",
       "      <td>3.534103e+07</td>\n",
       "      <td>1.098122e+08</td>\n",
       "      <td>7.447116e+07</td>\n",
       "    </tr>\n",
       "    <tr>\n",
       "      <th>6655</th>\n",
       "      <td>tt8404272</td>\n",
       "      <td>How Long Will I Love U</td>\n",
       "      <td>Chao shi kong tong ju</td>\n",
       "      <td>2018</td>\n",
       "      <td>101.0</td>\n",
       "      <td>Romance</td>\n",
       "      <td>6.5</td>\n",
       "      <td>607</td>\n",
       "      <td>24465</td>\n",
       "      <td>[35, 10749, 18, 9648]</td>\n",
       "      <td>...</td>\n",
       "      <td>11</td>\n",
       "      <td>WGUSA</td>\n",
       "      <td>747000.0</td>\n",
       "      <td>8.210000e+07</td>\n",
       "      <td>2018.0</td>\n",
       "      <td>51.685808</td>\n",
       "      <td>Mar 27, 2015</td>\n",
       "      <td>3.534103e+07</td>\n",
       "      <td>1.098122e+08</td>\n",
       "      <td>7.447116e+07</td>\n",
       "    </tr>\n",
       "    <tr>\n",
       "      <th>6656</th>\n",
       "      <td>tt8632862</td>\n",
       "      <td>Fahrenheit 11/9</td>\n",
       "      <td>Fahrenheit 11/9</td>\n",
       "      <td>2018</td>\n",
       "      <td>128.0</td>\n",
       "      <td>Documentary</td>\n",
       "      <td>6.7</td>\n",
       "      <td>11628</td>\n",
       "      <td>24172</td>\n",
       "      <td>[99]</td>\n",
       "      <td>...</td>\n",
       "      <td>142</td>\n",
       "      <td>Unknown_studio</td>\n",
       "      <td>6352306.0</td>\n",
       "      <td>8.284734e+07</td>\n",
       "      <td>2015.0</td>\n",
       "      <td>29.000000</td>\n",
       "      <td>Sep 21, 2018</td>\n",
       "      <td>5.000000e+06</td>\n",
       "      <td>6.653715e+06</td>\n",
       "      <td>1.653715e+06</td>\n",
       "    </tr>\n",
       "    <tr>\n",
       "      <th>6657</th>\n",
       "      <td>tt9078374</td>\n",
       "      <td>Last Letter</td>\n",
       "      <td>Ni hao, Zhihua</td>\n",
       "      <td>2018</td>\n",
       "      <td>114.0</td>\n",
       "      <td>Drama,Romance</td>\n",
       "      <td>6.4</td>\n",
       "      <td>322</td>\n",
       "      <td>26409</td>\n",
       "      <td>[10749, 18]</td>\n",
       "      <td>...</td>\n",
       "      <td>1</td>\n",
       "      <td>CL</td>\n",
       "      <td>181000.0</td>\n",
       "      <td>8.284734e+07</td>\n",
       "      <td>2018.0</td>\n",
       "      <td>51.685808</td>\n",
       "      <td>Mar 27, 2015</td>\n",
       "      <td>3.534103e+07</td>\n",
       "      <td>1.098122e+08</td>\n",
       "      <td>7.447116e+07</td>\n",
       "    </tr>\n",
       "  </tbody>\n",
       "</table>\n",
       "<p>6658 rows × 26 columns</p>\n",
       "</div>"
      ],
      "text/plain": [
       "         tconst                   title         original_title  start_year  \\\n",
       "0     tt0249516              Foodfight!             Foodfight!        2012   \n",
       "1     tt0315642                   Wazir                  Wazir        2016   \n",
       "2     tt0326592           The Overnight          The Overnight        2010   \n",
       "3     tt3844362           The Overnight          The Overnight        2015   \n",
       "4     tt0337692             On the Road            On the Road        2012   \n",
       "...         ...                     ...                    ...         ...   \n",
       "6653  tt8267604               Capernaum             Capharnaüm        2018   \n",
       "6654  tt8290698      The Spy Gone North                Gongjak        2018   \n",
       "6655  tt8404272  How Long Will I Love U  Chao shi kong tong ju        2018   \n",
       "6656  tt8632862         Fahrenheit 11/9        Fahrenheit 11/9        2018   \n",
       "6657  tt9078374             Last Letter         Ni hao, Zhihua        2018   \n",
       "\n",
       "      runtime_minutes                   genres  averagerating  numvotes  \\\n",
       "0                91.0  Action,Animation,Comedy            1.9      8248   \n",
       "1               103.0       Action,Crime,Drama            7.1     15378   \n",
       "2                88.0                      NaN            7.5        24   \n",
       "3                79.0           Comedy,Mystery            6.1     14828   \n",
       "4               124.0  Adventure,Drama,Romance            6.1     37886   \n",
       "...               ...                      ...            ...       ...   \n",
       "6653            126.0                    Drama            8.5     20215   \n",
       "6654            137.0                    Drama            7.2      1620   \n",
       "6655            101.0                  Romance            6.5       607   \n",
       "6656            128.0              Documentary            6.7     11628   \n",
       "6657            114.0            Drama,Romance            6.4       322   \n",
       "\n",
       "      Unnamed: 0               genre_ids  ...  vote_count          studio  \\\n",
       "0           8456     [16, 28, 35, 10751]  ...          46  Unknown_studio   \n",
       "1          18152  [53, 28, 80, 18, 9648]  ...          63         Relbig.   \n",
       "2          14596              [9648, 35]  ...         200  Unknown_studio   \n",
       "3          14596              [9648, 35]  ...         200  Unknown_studio   \n",
       "4           5350                [12, 18]  ...         518             IFC   \n",
       "...          ...                     ...  ...         ...             ...   \n",
       "6653       23899                    [18]  ...         329             SPC   \n",
       "6654       24471                [18, 36]  ...          33              CJ   \n",
       "6655       24465   [35, 10749, 18, 9648]  ...          11           WGUSA   \n",
       "6656       24172                    [99]  ...         142  Unknown_studio   \n",
       "6657       26409             [10749, 18]  ...           1              CL   \n",
       "\n",
       "     domestic_gross  foreign_gross    year        idr  release_dater  \\\n",
       "0               0.0   8.284734e+07  2015.0  26.000000   Dec 31, 2012   \n",
       "1         1100000.0   8.284734e+07  2016.0  51.685808   Mar 27, 2015   \n",
       "2         1109808.0   8.284734e+07  2015.0  21.000000   Jun 19, 2015   \n",
       "3         1109808.0   8.284734e+07  2015.0  21.000000   Jun 19, 2015   \n",
       "4          744000.0   8.000000e+06  2012.0  51.685808   Mar 27, 2015   \n",
       "...             ...            ...     ...        ...            ...   \n",
       "6653      1700000.0   8.284734e+07  2018.0  51.685808   Mar 27, 2015   \n",
       "6654       501000.0   8.284734e+07  2018.0  51.685808   Mar 27, 2015   \n",
       "6655       747000.0   8.210000e+07  2018.0  51.685808   Mar 27, 2015   \n",
       "6656      6352306.0   8.284734e+07  2015.0  29.000000   Sep 21, 2018   \n",
       "6657       181000.0   8.284734e+07  2018.0  51.685808   Mar 27, 2015   \n",
       "\n",
       "     production_budget  worldwide_gross        Profit  \n",
       "0         4.500000e+07     7.370600e+04 -4.492629e+07  \n",
       "1         3.534103e+07     1.098122e+08  7.447116e+07  \n",
       "2         2.000000e+05     1.165996e+06  9.659960e+05  \n",
       "3         2.000000e+05     1.165996e+06  9.659960e+05  \n",
       "4         3.534103e+07     1.098122e+08  7.447116e+07  \n",
       "...                ...              ...           ...  \n",
       "6653      3.534103e+07     1.098122e+08  7.447116e+07  \n",
       "6654      3.534103e+07     1.098122e+08  7.447116e+07  \n",
       "6655      3.534103e+07     1.098122e+08  7.447116e+07  \n",
       "6656      5.000000e+06     6.653715e+06  1.653715e+06  \n",
       "6657      3.534103e+07     1.098122e+08  7.447116e+07  \n",
       "\n",
       "[6658 rows x 26 columns]"
      ]
     },
     "execution_count": 20,
     "metadata": {},
     "output_type": "execute_result"
    }
   ],
   "source": [
    "#since we will focus more on genres,to get a clean output,we will drop the unknown genres\n",
    "# Filter out rows with unknown genres\n",
    "integrated_db = integrated_db[integrated_db['genres'] != 'Unknown_genres'].copy()\n",
    "\n",
    "# Reset index after filtering\n",
    "integrated_db.reset_index(drop=True, inplace=True)\n",
    "###\n",
    "\n",
    "integrated_db['year'].dropna(inplace=True)\n",
    "# finding the mode of the column 'year'\n",
    "mode_1=integrated_db['year'].mode()[0]\n",
    "mode_1\n",
    "# replacing null values with mode_1 value\n",
    "integrated_db['year'].fillna(mode_1, inplace=True)\n",
    "###\n",
    "\n",
    "integrated_db['start_year'].dropna(inplace=True)\n",
    "# replacing null values with mode_1 value\n",
    "integrated_db['start_year'].fillna(mode_1, inplace=True)\n",
    "###\n",
    "\n",
    "integrated_db['release_dater'].dropna(inplace=True)\n",
    "# finding the mode of the column 'year'\n",
    "mode_1=integrated_db['release_dater'].mode()[0]\n",
    "mode_1\n",
    "# replacing null values with mode_1 value\n",
    "integrated_db['release_dater'].fillna(mode_1, inplace=True)\n",
    "############\n",
    "\n",
    "integrated_db.drop(['original_titler'], axis=1)\n",
    "\n",
    "integrated_db"
   ]
  },
  {
   "cell_type": "code",
   "execution_count": 21,
   "metadata": {},
   "outputs": [
    {
     "data": {
      "text/plain": [
       "tconst                0\n",
       "title                 0\n",
       "original_title        0\n",
       "start_year            0\n",
       "runtime_minutes       0\n",
       "genres               21\n",
       "averagerating         0\n",
       "numvotes              0\n",
       "Unnamed: 0            0\n",
       "genre_ids             0\n",
       "id                    0\n",
       "original_language     0\n",
       "original_titler       0\n",
       "popularity            0\n",
       "release_date          0\n",
       "vote_average          0\n",
       "vote_count            0\n",
       "studio                0\n",
       "domestic_gross        0\n",
       "foreign_gross         0\n",
       "year                  0\n",
       "idr                   0\n",
       "release_dater         0\n",
       "production_budget     0\n",
       "worldwide_gross       0\n",
       "Profit                0\n",
       "dtype: int64"
      ]
     },
     "execution_count": 21,
     "metadata": {},
     "output_type": "execute_result"
    }
   ],
   "source": [
    "#Checking for missing values\n",
    "integrated_db.isna().sum()"
   ]
  },
  {
   "cell_type": "code",
   "execution_count": 22,
   "metadata": {
    "colab": {
     "base_uri": "https://localhost:8080/"
    },
    "id": "ySGWIzDfigy7",
    "outputId": "6f7a0972-da60-4166-ff58-c1c2fd60322a"
   },
   "outputs": [
    {
     "data": {
      "text/plain": [
       "0        4.705\n",
       "1        3.881\n",
       "2        6.576\n",
       "3        6.576\n",
       "4        8.919\n",
       "         ...  \n",
       "6653    20.249\n",
       "6654     6.794\n",
       "6655     6.840\n",
       "6656    10.003\n",
       "6657     0.600\n",
       "Name: popularity, Length: 6658, dtype: float64"
      ]
     },
     "execution_count": 22,
     "metadata": {},
     "output_type": "execute_result"
    }
   ],
   "source": [
    "popularity_column = integrated_db['popularity']\n",
    "popularity_column"
   ]
  },
  {
   "cell_type": "code",
   "execution_count": 23,
   "metadata": {
    "colab": {
     "base_uri": "https://localhost:8080/"
    },
    "id": "3XQCiIqBPm7D",
    "outputId": "1add0ea4-ea39-407a-aca2-d7eb774386a2"
   },
   "outputs": [
    {
     "data": {
      "text/plain": [
       "(6658, 26)"
      ]
     },
     "execution_count": 23,
     "metadata": {},
     "output_type": "execute_result"
    }
   ],
   "source": [
    "#checking integrated database shape after cleaning\n",
    "integrated_db.shape"
   ]
  },
  {
   "cell_type": "code",
   "execution_count": 24,
   "metadata": {
    "colab": {
     "base_uri": "https://localhost:8080/"
    },
    "id": "_B_7wAPJLSR2",
    "outputId": "17aa5584-1bae-4280-ccea-de0059f4f6d3"
   },
   "outputs": [
    {
     "name": "stdout",
     "output_type": "stream",
     "text": [
      "<class 'pandas.core.frame.DataFrame'>\n",
      "RangeIndex: 6658 entries, 0 to 6657\n",
      "Data columns (total 26 columns):\n",
      " #   Column             Non-Null Count  Dtype  \n",
      "---  ------             --------------  -----  \n",
      " 0   tconst             6658 non-null   object \n",
      " 1   title              6658 non-null   object \n",
      " 2   original_title     6658 non-null   object \n",
      " 3   start_year         6658 non-null   int64  \n",
      " 4   runtime_minutes    6658 non-null   float64\n",
      " 5   genres             6637 non-null   object \n",
      " 6   averagerating      6658 non-null   float64\n",
      " 7   numvotes           6658 non-null   int64  \n",
      " 8   Unnamed: 0         6658 non-null   int64  \n",
      " 9   genre_ids          6658 non-null   object \n",
      " 10  id                 6658 non-null   int64  \n",
      " 11  original_language  6658 non-null   object \n",
      " 12  original_titler    6658 non-null   object \n",
      " 13  popularity         6658 non-null   float64\n",
      " 14  release_date       6658 non-null   object \n",
      " 15  vote_average       6658 non-null   float64\n",
      " 16  vote_count         6658 non-null   int64  \n",
      " 17  studio             6658 non-null   object \n",
      " 18  domestic_gross     6658 non-null   float64\n",
      " 19  foreign_gross      6658 non-null   float64\n",
      " 20  year               6658 non-null   float64\n",
      " 21  idr                6658 non-null   float64\n",
      " 22  release_dater      6658 non-null   object \n",
      " 23  production_budget  6658 non-null   float64\n",
      " 24  worldwide_gross    6658 non-null   float64\n",
      " 25  Profit             6658 non-null   float64\n",
      "dtypes: float64(11), int64(5), object(10)\n",
      "memory usage: 1.3+ MB\n"
     ]
    }
   ],
   "source": [
    "# checking the info on df DataFrame\n",
    "integrated_db.info()"
   ]
  },
  {
   "cell_type": "markdown",
   "metadata": {
    "id": "RVhCEKDNt8tF"
   },
   "source": [
    "# **DATA EXPLORATION AND VISUALIZATION**"
   ]
  },
  {
   "cell_type": "markdown",
   "metadata": {
    "id": "g_olMUxi2xfe"
   },
   "source": [
    "To begin,let us see the genres that has the highest rate of production over the period that the data was recorded.We will focus on the top 10 as an overview of the top productions.\n",
    "The distribution difference could hint a couple of things regarding the market behavior towards these genres hence the consistency in production by the studios.\n",
    "\n",
    "Afterwards, we will test the sustainability of the top produced genres by profitablity (Return on investment) and average rating (consumer behavior and preference).\n",
    "\n",
    "This is to conclude on recommending to Microsoft in regards to immediate and sustained gross returns of their new anticipated investment."
   ]
  },
  {
   "cell_type": "code",
   "execution_count": 25,
   "metadata": {
    "colab": {
     "base_uri": "https://localhost:8080/",
     "height": 347
    },
    "id": "Cr9Spro9MMmn",
    "outputId": "a0a9cf5a-fc79-4764-a989-5246d4b6396f"
   },
   "outputs": [
    {
     "data": {
      "text/html": [
       "<div>\n",
       "<style scoped>\n",
       "    .dataframe tbody tr th:only-of-type {\n",
       "        vertical-align: middle;\n",
       "    }\n",
       "\n",
       "    .dataframe tbody tr th {\n",
       "        vertical-align: top;\n",
       "    }\n",
       "\n",
       "    .dataframe thead th {\n",
       "        text-align: right;\n",
       "    }\n",
       "</style>\n",
       "<table border=\"1\" class=\"dataframe\">\n",
       "  <thead>\n",
       "    <tr style=\"text-align: right;\">\n",
       "      <th></th>\n",
       "      <th>genres</th>\n",
       "    </tr>\n",
       "  </thead>\n",
       "  <tbody>\n",
       "    <tr>\n",
       "      <th>Drama</th>\n",
       "      <td>753</td>\n",
       "    </tr>\n",
       "    <tr>\n",
       "      <th>Documentary</th>\n",
       "      <td>235</td>\n",
       "    </tr>\n",
       "    <tr>\n",
       "      <th>Comedy,Drama</th>\n",
       "      <td>231</td>\n",
       "    </tr>\n",
       "    <tr>\n",
       "      <th>Drama,Romance</th>\n",
       "      <td>217</td>\n",
       "    </tr>\n",
       "    <tr>\n",
       "      <th>Comedy,Drama,Romance</th>\n",
       "      <td>214</td>\n",
       "    </tr>\n",
       "    <tr>\n",
       "      <th>Comedy</th>\n",
       "      <td>201</td>\n",
       "    </tr>\n",
       "    <tr>\n",
       "      <th>Adventure,Animation,Comedy</th>\n",
       "      <td>179</td>\n",
       "    </tr>\n",
       "    <tr>\n",
       "      <th>Drama,Thriller</th>\n",
       "      <td>143</td>\n",
       "    </tr>\n",
       "    <tr>\n",
       "      <th>Comedy,Romance</th>\n",
       "      <td>135</td>\n",
       "    </tr>\n",
       "    <tr>\n",
       "      <th>Horror,Thriller</th>\n",
       "      <td>124</td>\n",
       "    </tr>\n",
       "  </tbody>\n",
       "</table>\n",
       "</div>"
      ],
      "text/plain": [
       "                            genres\n",
       "Drama                          753\n",
       "Documentary                    235\n",
       "Comedy,Drama                   231\n",
       "Drama,Romance                  217\n",
       "Comedy,Drama,Romance           214\n",
       "Comedy                         201\n",
       "Adventure,Animation,Comedy     179\n",
       "Drama,Thriller                 143\n",
       "Comedy,Romance                 135\n",
       "Horror,Thriller                124"
      ]
     },
     "execution_count": 25,
     "metadata": {},
     "output_type": "execute_result"
    }
   ],
   "source": [
    "# finding the top 10 genres in terms of production data numbers\n",
    "top_10_genres = pd.DataFrame(integrated_db['genres'].value_counts().head(10))\n",
    "top_10_genres\n",
    "\n"
   ]
  },
  {
   "cell_type": "code",
   "execution_count": 26,
   "metadata": {
    "colab": {
     "base_uri": "https://localhost:8080/",
     "height": 798
    },
    "id": "8PrcQU-SNs_g",
    "outputId": "09ebf6ec-f2f0-4b9e-d0f7-5b98a72ddc8a"
   },
   "outputs": [
    {
     "data": {
      "image/png": "[encoded data removed]",
      "text/plain": [
       "<Figure size 576x576 with 1 Axes>"
      ]
     },
     "metadata": {},
     "output_type": "display_data"
    }
   ],
   "source": [
    "#Visualise the above observation\n",
    "# Plotting the result in a pie chart\n",
    "plt.figure(figsize=(8, 8))\n",
    "plt.pie(top_10_genres['genres'], labels=top_10_genres.index, autopct='%1.1f%%', startangle=140, colors=plt.cm.tab10.colors)\n",
    "plt.title('Top 10 Genres in Production Data')\n",
    "plt.axis('equal')  # Equal aspect ratio ensures that pie is drawn as a circle\n",
    "plt.tight_layout()\n",
    "plt.show()\n"
   ]
  },
  {
   "cell_type": "markdown",
   "metadata": {
    "id": "qUeaAJMY-Wwn"
   },
   "source": [
    "Next,we calculate the top ten most profitable genres"
   ]
  },
  {
   "cell_type": "code",
   "execution_count": 30,
   "metadata": {
    "colab": {
     "base_uri": "https://localhost:8080/",
     "height": 1000
    },
    "id": "E9O3o3yA9j0Z",
    "outputId": "dd2dc391-04ca-4947-e4a9-ffecbab6b41b"
   },
   "outputs": [
    {
     "data": {
      "image/png": "[encoded data removed]",
      "text/plain": [
       "<Figure size 720x576 with 1 Axes>"
      ]
     },
     "metadata": {},
     "output_type": "display_data"
    }
   ],
   "source": [
    "#Visualizing the top 10 most profitable genres\n",
    "# Calculate total profit for each genre\n",
    "genre_profit = integrated_db.groupby('genres')['Profit'].sum()\n",
    "\n",
    "# Select top 10 most profitable genres\n",
    "top_10_profitable_genres = genre_profit.nlargest(10)\n",
    "\n",
    "# Plotting\n",
    "plt.figure(figsize=(10, 8))\n",
    "top_10_profitable_genres.plot(kind='pie', autopct='%1.1f%%', startangle=140)\n",
    "plt.title('Top 10 Most Profitable Genres')\n",
    "plt.ylabel('')  # Removing the y-label\n",
    "plt.show()\n",
    "\n",
    "\n"
   ]
  },
  {
   "cell_type": "markdown",
   "metadata": {
    "id": "Hh0jQcGHQ7zW"
   },
   "source": [
    "Below,we will check the relationship and how much of effect data collected as ratings from the public had effect on the top 10 most profitable films"
   ]
  },
  {
   "cell_type": "code",
   "execution_count": 31,
   "metadata": {
    "id": "ylALvFV4DNGL"
   },
   "outputs": [
    {
     "name": "stdout",
     "output_type": "stream",
     "text": [
      "Genre: Action,Adventure,Comedy, Studio: Unknown_studio\n",
      "Genre: Action,Adventure,Fantasy, Studio: Unknown_studio\n",
      "Genre: Action,Adventure,Sci-Fi, Studio: Unknown_studio\n",
      "Genre: Adventure,Animation,Comedy, Studio: Unknown_studio\n",
      "Genre: Comedy, Studio: Unknown_studio\n",
      "Genre: Comedy,Drama, Studio: Unknown_studio\n",
      "Genre: Comedy,Drama,Romance, Studio: Unknown_studio\n",
      "Genre: Documentary, Studio: Unknown_studio\n",
      "Genre: Drama, Studio: Unknown_studio\n",
      "Genre: Drama,Romance, Studio: Unknown_studio\n"
     ]
    }
   ],
   "source": [
    "#Calling top 10 most profitable genres alonside their studio of production\n",
    "# Filter the dataset to include only the entries corresponding to the top ten genres\n",
    "top_10_genres_data = integrated_db[integrated_db['genres'].isin(top_10_profitable_genres.index)]\n",
    "\n",
    "# Group the filtered dataset by the 'genres' column\n",
    "grouped_by_genre = top_10_genres_data.groupby('genres')\n",
    "\n",
    "# Find the most frequent studio(s) associated with each genre\n",
    "top_studios_by_genre = grouped_by_genre['studio'].agg(lambda x: x.mode()[0])\n",
    "\n",
    "# Print top ten genres and their associated studios\n",
    "for genre, studio in top_studios_by_genre.items():\n",
    "    print(f\"Genre: {genre}, Studio: {studio}\")\n"
   ]
  },
  {
   "cell_type": "code",
   "execution_count": 32,
   "metadata": {
    "colab": {
     "base_uri": "https://localhost:8080/",
     "height": 607
    },
    "id": "SWnlqQlLTeHZ",
    "outputId": "26f3a233-f73a-484e-e833-3a57fe470ff8"
   },
   "outputs": [
    {
     "data": {
      "image/png": "[encoded data removed]",
      "text/plain": [
       "<Figure size 576x432 with 2 Axes>"
      ]
     },
     "metadata": {
      "needs_background": "light"
     },
     "output_type": "display_data"
    }
   ],
   "source": [
    "#Visualizing the correlation between profitability,average rating and popularity on a Heatmap\n",
    "\n",
    "# Calculate correlation matrix\n",
    "correlation_matrix = integrated_db[integrated_db['genres'].isin(top_10_profitable_genres.index)][['Profit', 'popularity', 'averagerating']].corr()\n",
    "\n",
    "# Plot correlation heatmap\n",
    "plt.figure(figsize=(8, 6))\n",
    "sns.heatmap(correlation_matrix, annot=True, cmap='coolwarm', fmt=\".2f\", linewidths=.5)\n",
    "plt.title('Correlation Heatmap for Top 10 Profitable Genres')\n",
    "plt.tight_layout()\n",
    "plt.show()\n"
   ]
  },
  {
   "cell_type": "code",
   "execution_count": 37,
   "metadata": {
    "colab": {
     "base_uri": "https://localhost:8080/",
     "height": 487
    },
    "id": "ccVYz33-X-ZQ",
    "outputId": "bf5f80e4-563c-45d7-9246-47f6416fdd82"
   },
   "outputs": [
    {
     "data": {
      "image/png": "[encoded data removed]",
      "text/plain": [
       "<Figure size 720x432 with 1 Axes>"
      ]
     },
     "metadata": {
      "needs_background": "light"
     },
     "output_type": "display_data"
    }
   ],
   "source": [
    "# Visualizing trends of profits over the years\n",
    "import pandas as pd\n",
    "import matplotlib.pyplot as plt\n",
    "from matplotlib.ticker import FuncFormatter  # Importing FuncFormatter\n",
    "\n",
    "# Assuming you have already loaded and preprocessed the integrated_db dataset\n",
    "\n",
    "# Convert release date to datetime format and extract release year\n",
    "integrated_db['Release Year'] = pd.to_datetime(integrated_db['release_date']).dt.year\n",
    "\n",
    "# Group by year and calculate total worldwide gross\n",
    "yearly_worldwide_gross = integrated_db.groupby('Release Year')['Profit'].sum()\n",
    "\n",
    "# Sort years in ascending order\n",
    "yearly_worldwide_gross_sorted = yearly_worldwide_gross.sort_index()\n",
    "\n",
    "# Plot bar chart\n",
    "plt.figure(figsize=(10, 6))\n",
    "plt.bar(yearly_worldwide_gross_sorted.index.astype(str), yearly_worldwide_gross_sorted.values)\n",
    "\n",
    "# Customize plot\n",
    "plt.xlabel('Year')\n",
    "plt.ylabel('Total profits (USD)')\n",
    "plt.title('Profits over the years (Sorted by Year Ascending)')\n",
    "plt.xticks(rotation=45)\n",
    "plt.grid(True)\n",
    "\n",
    "# Formatting y-axis to add USD\n",
    "def format_func(value, tick_number):\n",
    "    return '${:,.0f}'.format(value)\n",
    "\n",
    "plt.gca().yaxis.set_major_formatter(FuncFormatter(format_func))\n",
    "\n",
    "# Show plot\n",
    "plt.tight_layout()\n",
    "plt.show()\n"
   ]
  },
  {
   "cell_type": "code",
   "execution_count": 38,
   "metadata": {
    "colab": {
     "base_uri": "https://localhost:8080/",
     "height": 564
    },
    "id": "K85CPVdlRd7f",
    "outputId": "3daab3a2-907a-42b7-ae33-482193ba891a"
   },
   "outputs": [
    {
     "data": {
      "image/png": "[encoded data removed]",
      "text/plain": [
       "<Figure size 720x432 with 1 Axes>"
      ]
     },
     "metadata": {
      "needs_background": "light"
     },
     "output_type": "display_data"
    }
   ],
   "source": [
    "# Visualizing Trend of Production Budget Over the Years\n",
    "# Convert release date to datetime format\n",
    "integrated_db['release_date'] = pd.to_datetime(integrated_db['release_date'])\n",
    "\n",
    "# Extract year from release date\n",
    "integrated_db['Release Year'] = integrated_db['release_date'].dt.year\n",
    "\n",
    "# Group by year and calculate total worldwide gross\n",
    "yearly_production_budget = integrated_db.groupby('Release Year')['production_budget'].sum()\n",
    "\n",
    "# Plot bar graph\n",
    "plt.figure(figsize=(10, 6))\n",
    "plt.bar(yearly_production_budget.index, yearly_production_budget.values, color='blue', alpha=0.5, label='Production Budget')\n",
    "plt.bar(yearly_worldwide_gross.index, yearly_worldwide_gross.values, color='green', alpha=0.5, label='Worldwide Gross')\n",
    "plt.title('Trend of Production Budget and Worldwide Gross Over the Years')\n",
    "plt.xlabel('Year')\n",
    "plt.ylabel('Amount (USD)')  # Adding USD to the y-axis label\n",
    "plt.legend()\n",
    "plt.grid(True)\n",
    "\n",
    "# Formatting y-axis to add USD\n",
    "def format_func(value, tick_number):\n",
    "    return '${:,.0f}'.format(value)"
   ]
  },
  {
   "cell_type": "code",
   "execution_count": 39,
   "metadata": {
    "colab": {
     "base_uri": "https://localhost:8080/",
     "height": 564
    },
    "id": "U17TQpaFhGju",
    "outputId": "bc64f87c-04e6-48fa-9dd2-b97575d2086e"
   },
   "outputs": [
    {
     "data": {
      "image/png": "[encoded data removed]",
      "text/plain": [
       "<Figure size 720x432 with 1 Axes>"
      ]
     },
     "metadata": {
      "needs_background": "light"
     },
     "output_type": "display_data"
    }
   ],
   "source": [
    "#Domestic and foregn gross trends\n",
    "\n",
    "# Group by year and calculate total domestic and foreign gross\n",
    "yearly_domestic_gross = integrated_db.groupby('Release Year')['domestic_gross'].sum()\n",
    "yearly_foreign_gross = integrated_db.groupby('Release Year')['foreign_gross'].sum()\n",
    "\n",
    "import matplotlib.pyplot as plt\n",
    "from matplotlib.ticker import FuncFormatter\n",
    "\n",
    "\n",
    "# Plot line plot\n",
    "plt.figure(figsize=(10, 6))\n",
    "plt.plot(yearly_domestic_gross.index, yearly_domestic_gross.values, marker='o', linestyle='-', label='Domestic Gross')\n",
    "plt.plot(yearly_foreign_gross.index, yearly_foreign_gross.values, marker='o', linestyle='-', label='Foreign Gross')\n",
    "plt.title('Trend of Domestic and Foreign Gross Over the Years')\n",
    "plt.xlabel('Year')\n",
    "plt.ylabel('Amount (USD)')\n",
    "plt.legend()\n",
    "plt.grid(True)\n",
    "\n",
    "# Formatting y-axis to add USD\n",
    "def format_func(value, tick_number):\n",
    "    return '${:,.0f}'.format(value)"
   ]
  },
  {
   "cell_type": "code",
   "execution_count": 40,
   "metadata": {
    "colab": {
     "base_uri": "https://localhost:8080/",
     "height": 410
    },
    "id": "oZDep7t2Ykyi",
    "outputId": "63d71ea6-dd33-4a71-d21e-cae0d73b3624"
   },
   "outputs": [
    {
     "data": {
      "image/png": "[encoded data removed]",
      "text/plain": [
       "<Figure size 648x288 with 1 Axes>"
      ]
     },
     "metadata": {
      "needs_background": "light"
     },
     "output_type": "display_data"
    }
   ],
   "source": [
    "#Visualization of the relationship between worldwide gross and profits\n",
    "plt.figure(figsize = (9,4))\n",
    "sns.regplot(x = 'worldwide_gross', y = 'Profit', data = integrated_db)\n",
    "plt.title('Relationship between Worldwide gross and Profit')\n",
    "plt.xlabel('Worldwide Gross')\n",
    "plt.ylabel('Profit (USD)')  # Adding USD to the y-axis label\n",
    "plt.grid(True)\n",
    "\n",
    "# Formatting y-axis to add USD\n",
    "def format_func(value, tick_number):\n",
    "    return '${:,.0f}'.format(value)\n",
    "\n",
    "plt.gca().yaxis.set_major_formatter(FuncFormatter(format_func))\n",
    "\n",
    "plt.show()"
   ]
  },
  {
   "cell_type": "markdown",
   "metadata": {
    "id": "GxkjLX9uTG38"
   },
   "source": [
    "# **CONCLUSION**"
   ]
  },
  {
   "cell_type": "markdown",
   "metadata": {
    "id": "MGe7CcgjVu-T"
   },
   "source": [
    "\n",
    "\n",
    "1. Overall, the correlation heatmap provides insights into the interconnectedness between profitability, popularity, and average rating within the top 10 profitable genres. It suggests that successful genres tend to not only generate higher profits but also attract greater audience interest and appreciation, contributing to their overall success and positive reception.  \n",
    "\n",
    "2. Drama movies have demonstrated consistent success over the years in amassing the most amount of gross earnings and top production in numbers.   \n",
    "\n",
    "3. An interesting observation, genre class Adventure.Animation.Comedy as a subsiquent in earnings dispite the genre class having a relatively smaller suturation in production, closely followed by genre class Action.Adventure.Sci-Fi.\n",
    "\n",
    "4. A seemingly direct propotionality between worldwide gross and production budget.\n",
    "\n"
   ]
  },
  {
   "cell_type": "markdown",
   "metadata": {
    "id": "dqideQ8wTQSo"
   },
   "source": [
    "# **RECOMMENDATIONS**"
   ]
  },
  {
   "cell_type": "markdown",
   "metadata": {
    "id": "hOXvb4gkgFeq"
   },
   "source": [
    "\n",
    "\n",
    "1.   Fo both short and long term sustained gross earnings over time,Microsoft  should produce Dramamovies,Adventure.Animation.Comedy movies and Action.Adventure.Sci-Fi movies\n",
    "\n",
    "2. Considering the availability of a bigger foreign market compared to domestic market,Microsoft should consider anerlysing the demographics of movie-makers and movie-watchers and diversifying their production in regards to Culture,Race,Language,Religion,Heritage and any other factor that makes our society unique.This can be a Market to conqure\n",
    "\n",
    "3. Getting more details on and interacting with the studios involved with top performing Movies/Genres will aid Microsoft in several factors like understanding and engaging in healthy competition and the market in general,bench marking,making better decisions like wether to actualize production internally,outsourcing or by collaborating.\n",
    "\n",
    "4. Further analysis of more recent Data, and keeping up to date on the same will help Microsoft incorporate the changes in viewing practices, a factor that is part of the backbone of this business.\n",
    "\n",
    "\n"
   ]
  },
  {
   "cell_type": "code",
   "execution_count": null,
   "metadata": {},
   "outputs": [],
   "source": []
  }
 ],
 "metadata": {
  "colab": {
   "provenance": [],
   "toc_visible": true
  },
  "kernelspec": {
   "display_name": "Python (learn-env)",
   "language": "python",
   "name": "learn-env"
  },
  "language_info": {
   "codemirror_mode": {
    "name": "ipython",
    "version": 3
   },
   "file_extension": ".py",
   "mimetype": "text/x-python",
   "name": "python",
   "nbconvert_exporter": "python",
   "pygments_lexer": "ipython3",
   "version": "3.8.5"
  }
 },
 "nbformat": 4,
 "nbformat_minor": 4
}
